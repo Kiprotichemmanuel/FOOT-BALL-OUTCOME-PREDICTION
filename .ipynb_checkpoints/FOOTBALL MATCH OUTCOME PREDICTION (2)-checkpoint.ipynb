{
 "cells": [
  {
   "cell_type": "markdown",
   "id": "Y3Qlg0dun64H",
   "metadata": {
    "id": "Y3Qlg0dun64H"
   },
   "source": [
    "## **FOOTBALL PREDICTIVE MODEL**"
   ]
  },
  {
   "cell_type": "markdown",
   "id": "5qBxXDf3oDe0",
   "metadata": {
    "id": "5qBxXDf3oDe0"
   },
   "source": [
    "### **Overview**"
   ]
  },
  {
   "cell_type": "markdown",
   "id": "rn4ND2QzoEsS",
   "metadata": {
    "id": "rn4ND2QzoEsS"
   },
   "source": [
    "* The Football Predictive Model aims to harness the power of data analytics and machine learning to enhance decision-making and strategy in the world of football (soccer). By leveraging historical performance data, player statistics, and various game-related factors, this model seeks to provide valuable insights, predictions, and recommendations to football clubs, coaches, and stakeholders. This predictive model seeks to revolutionize how football teams approach team management, game planning, and player recruitment by offering data-driven insights that optimize team performance and contribute to long-term success in the sport. The model also seeks to provide accurate prediction to enable betting group in the society to invest their money in the right match and earn good returns."
   ]
  },
  {
   "cell_type": "markdown",
   "id": "PQ4_EAKOylpS",
   "metadata": {
    "id": "PQ4_EAKOylpS"
   },
   "source": [
    "## **Problem Statment**"
   ]
  },
  {
   "cell_type": "markdown",
   "id": "GjE0MoMPw4ba",
   "metadata": {
    "id": "GjE0MoMPw4ba"
   },
   "source": [
    "\n",
    "In the fiercely competitive world of football, teams are in a perpetual quest for a competitive edge.\n",
    "We seek to predict the outcomes (win) of English Premier League (EPL) soccer matches based on historical data to assist bettors in making informed betting decisions.\n",
    "\n"
   ]
  },
  {
   "cell_type": "markdown",
   "id": "pCgw9oxIoTQp",
   "metadata": {
    "id": "pCgw9oxIoTQp"
   },
   "source": [
    "### **Business Objectives**"
   ]
  },
  {
   "cell_type": "markdown",
   "id": "0mad2LemoXH0",
   "metadata": {
    "id": "0mad2LemoXH0"
   },
   "source": [
    "The Football Predictive Model seeks to achieve below objectives:\n",
    "\n",
    "1. Create a predictive model to accurately predict match outcomes.\n",
    "\n",
    "2. Determine the most influential factors that determine match outcomes.\n",
    "\n",
    "3. Give our stakeholders data-Driven insights influencing match outcomes. \n",
    "\n",
    "4. Continuously update and improve the model's accuracy over time.\n",
    "\n",
    "\n",
    "\n"
   ]
  },
  {
   "cell_type": "markdown",
   "id": "ydbUB9Q_oeh8",
   "metadata": {
    "id": "ydbUB9Q_oeh8"
   },
   "source": [
    "### **Success Metrics for Prediction**:\n",
    "* **Precision Ratio**: This will be our primary metric. Evaluating the proportion of true positive match predictions among all positive predictions\n",
    "* **Accuracy Rate**: Measuring the percentage of accurate match outcome predictions, encompassing wins, draws, and losses..\n",
    "* **Recall Rate** : Determining the proportion of true positive match predictions among all actual positive outcomes.\n",
    "* **F1-Score**: Calculating the harmonic mean of precision and recall to offer a well-balanced gauge of predictive accuracy."
   ]
  },
  {
   "cell_type": "code",
   "execution_count": 1,
   "id": "bef62663",
   "metadata": {
    "id": "bef62663"
   },
   "outputs": [],
   "source": [
    "# Importing relevant libraries\n",
    "\n",
    "import pandas as pd\n",
    "import matplotlib.pyplot as plt\n",
    "import seaborn as sns\n",
    "import math\n",
    "import numpy as np\n",
    "import random\n",
    "import warnings\n",
    "warnings.filterwarnings(\"ignore\")\n",
    "\n",
    "from imblearn.over_sampling import SMOTE\n",
    "from imblearn.pipeline import Pipeline as imbalanced_Pipeline\n",
    "from sklearn.pipeline import Pipeline\n",
    "from sklearn.decomposition import PCA\n",
    "from sklearn.compose import ColumnTransformer\n",
    "from sklearn.model_selection import GridSearchCV\n",
    "from sklearn.svm import SVC\n",
    "from sklearn.model_selection import train_test_split\n",
    "from sklearn.preprocessing import StandardScaler, OneHotEncoder\n",
    "from imblearn.over_sampling import RandomOverSampler\n",
    "\n",
    "from sklearn.linear_model import LogisticRegression\n",
    "from sklearn.neural_network import MLPClassifier\n",
    "from sklearn.ensemble import RandomForestClassifier\n",
    "from xgboost import XGBClassifier\n",
    "from sklearn.ensemble import GradientBoostingClassifier\n",
    "\n",
    "from sklearn.metrics import classification_report, accuracy_score\n",
    "from sklearn.metrics import roc_auc_score\n",
    "from sklearn.metrics import auc\n",
    "from sklearn.metrics import roc_curve\n",
    "from sklearn.metrics import precision_score\n",
    "from sklearn.metrics import f1_score\n",
    "from sklearn.metrics import accuracy_score\n",
    "from sklearn.metrics import recall_score\n",
    "from sklearn.metrics import confusion_matrix,ConfusionMatrixDisplay\n",
    "from sklearn.metrics import precision_recall_curve\n",
    "\n",
    "import pickle"
   ]
  },
  {
   "cell_type": "markdown",
   "id": "dOArnqwdn5wc",
   "metadata": {
    "id": "dOArnqwdn5wc"
   },
   "source": [
    "## Data Understanding"
   ]
  },
  {
   "cell_type": "markdown",
   "id": "kg6hxqPLoAU3",
   "metadata": {
    "id": "kg6hxqPLoAU3"
   },
   "source": [
    "In this phase we will be exploring and familiarizing ourselves with our dataset to ensure we have enough and relevant data to attain our goal of match predictions.\n",
    "\n",
    "Our data was obtained from  https://fbref.com/en/comps/9/Premier-League-Stats"
   ]
  },
  {
   "cell_type": "code",
   "execution_count": 2,
   "id": "55ba71fe",
   "metadata": {
    "colab": {
     "base_uri": "https://localhost:8080/",
     "height": 363
    },
    "id": "55ba71fe",
    "outputId": "b5862b32-5e4a-49e8-ca15-26509cbfdae0",
    "scrolled": true
   },
   "outputs": [
    {
     "data": {
      "text/html": [
       "<div>\n",
       "<style scoped>\n",
       "    .dataframe tbody tr th:only-of-type {\n",
       "        vertical-align: middle;\n",
       "    }\n",
       "\n",
       "    .dataframe tbody tr th {\n",
       "        vertical-align: top;\n",
       "    }\n",
       "\n",
       "    .dataframe thead th {\n",
       "        text-align: right;\n",
       "    }\n",
       "</style>\n",
       "<table border=\"1\" class=\"dataframe\">\n",
       "  <thead>\n",
       "    <tr style=\"text-align: right;\">\n",
       "      <th></th>\n",
       "      <th>Date</th>\n",
       "      <th>Time_x</th>\n",
       "      <th>Comp</th>\n",
       "      <th>Round</th>\n",
       "      <th>Day</th>\n",
       "      <th>Venue</th>\n",
       "      <th>Result</th>\n",
       "      <th>GF</th>\n",
       "      <th>GA</th>\n",
       "      <th>Opponent</th>\n",
       "      <th>...</th>\n",
       "      <th>Cmp%.2</th>\n",
       "      <th>Cmp%.3</th>\n",
       "      <th>TotDist</th>\n",
       "      <th>PrgDist</th>\n",
       "      <th>Cmp.4</th>\n",
       "      <th>Cmp.5</th>\n",
       "      <th>Cmp.6</th>\n",
       "      <th>Cmp.7</th>\n",
       "      <th>Season</th>\n",
       "      <th>Team</th>\n",
       "    </tr>\n",
       "  </thead>\n",
       "  <tbody>\n",
       "    <tr>\n",
       "      <th>4696</th>\n",
       "      <td>2018-04-21</td>\n",
       "      <td>12:30</td>\n",
       "      <td>Premier League</td>\n",
       "      <td>Matchweek 35</td>\n",
       "      <td>Sat</td>\n",
       "      <td>Home</td>\n",
       "      <td>D</td>\n",
       "      <td>2.0</td>\n",
       "      <td>2.0</td>\n",
       "      <td>Liverpool</td>\n",
       "      <td>...</td>\n",
       "      <td>82.4</td>\n",
       "      <td>37.8</td>\n",
       "      <td>5253.0</td>\n",
       "      <td>2093.0</td>\n",
       "      <td>280.0</td>\n",
       "      <td>128.0</td>\n",
       "      <td>112.0</td>\n",
       "      <td>34.0</td>\n",
       "      <td>2018</td>\n",
       "      <td>West Bromwich Albion</td>\n",
       "    </tr>\n",
       "    <tr>\n",
       "      <th>4697</th>\n",
       "      <td>2018-04-28</td>\n",
       "      <td>15:00</td>\n",
       "      <td>Premier League</td>\n",
       "      <td>Matchweek 36</td>\n",
       "      <td>Sat</td>\n",
       "      <td>Away</td>\n",
       "      <td>W</td>\n",
       "      <td>1.0</td>\n",
       "      <td>0.0</td>\n",
       "      <td>Newcastle Utd</td>\n",
       "      <td>...</td>\n",
       "      <td>70.2</td>\n",
       "      <td>51.1</td>\n",
       "      <td>5434.0</td>\n",
       "      <td>2810.0</td>\n",
       "      <td>258.0</td>\n",
       "      <td>115.0</td>\n",
       "      <td>92.0</td>\n",
       "      <td>46.0</td>\n",
       "      <td>2018</td>\n",
       "      <td>West Bromwich Albion</td>\n",
       "    </tr>\n",
       "    <tr>\n",
       "      <th>4698</th>\n",
       "      <td>2018-05-05</td>\n",
       "      <td>15:00</td>\n",
       "      <td>Premier League</td>\n",
       "      <td>Matchweek 37</td>\n",
       "      <td>Sat</td>\n",
       "      <td>Home</td>\n",
       "      <td>W</td>\n",
       "      <td>1.0</td>\n",
       "      <td>0.0</td>\n",
       "      <td>Tottenham</td>\n",
       "      <td>...</td>\n",
       "      <td>66.7</td>\n",
       "      <td>42.1</td>\n",
       "      <td>3005.0</td>\n",
       "      <td>1837.0</td>\n",
       "      <td>136.0</td>\n",
       "      <td>52.0</td>\n",
       "      <td>48.0</td>\n",
       "      <td>32.0</td>\n",
       "      <td>2018</td>\n",
       "      <td>West Bromwich Albion</td>\n",
       "    </tr>\n",
       "    <tr>\n",
       "      <th>4699</th>\n",
       "      <td>2018-05-13</td>\n",
       "      <td>15:00</td>\n",
       "      <td>Premier League</td>\n",
       "      <td>Matchweek 38</td>\n",
       "      <td>Sun</td>\n",
       "      <td>Away</td>\n",
       "      <td>L</td>\n",
       "      <td>0.0</td>\n",
       "      <td>2.0</td>\n",
       "      <td>Crystal Palace</td>\n",
       "      <td>...</td>\n",
       "      <td>84.5</td>\n",
       "      <td>53.2</td>\n",
       "      <td>5653.0</td>\n",
       "      <td>2194.0</td>\n",
       "      <td>319.0</td>\n",
       "      <td>159.0</td>\n",
       "      <td>109.0</td>\n",
       "      <td>42.0</td>\n",
       "      <td>2018</td>\n",
       "      <td>West Bromwich Albion</td>\n",
       "    </tr>\n",
       "  </tbody>\n",
       "</table>\n",
       "<p>4 rows × 46 columns</p>\n",
       "</div>"
      ],
      "text/plain": [
       "            Date Time_x            Comp         Round  Day Venue Result   GF   \n",
       "4696  2018-04-21  12:30  Premier League  Matchweek 35  Sat  Home      D  2.0  \\\n",
       "4697  2018-04-28  15:00  Premier League  Matchweek 36  Sat  Away      W  1.0   \n",
       "4698  2018-05-05  15:00  Premier League  Matchweek 37  Sat  Home      W  1.0   \n",
       "4699  2018-05-13  15:00  Premier League  Matchweek 38  Sun  Away      L  0.0   \n",
       "\n",
       "       GA        Opponent  ...  Cmp%.2  Cmp%.3  TotDist  PrgDist  Cmp.4   \n",
       "4696  2.0       Liverpool  ...    82.4    37.8   5253.0   2093.0  280.0  \\\n",
       "4697  0.0   Newcastle Utd  ...    70.2    51.1   5434.0   2810.0  258.0   \n",
       "4698  0.0       Tottenham  ...    66.7    42.1   3005.0   1837.0  136.0   \n",
       "4699  2.0  Crystal Palace  ...    84.5    53.2   5653.0   2194.0  319.0   \n",
       "\n",
       "      Cmp.5  Cmp.6 Cmp.7  Season                   Team  \n",
       "4696  128.0  112.0  34.0    2018  West Bromwich Albion   \n",
       "4697  115.0   92.0  46.0    2018  West Bromwich Albion   \n",
       "4698   52.0   48.0  32.0    2018  West Bromwich Albion   \n",
       "4699  159.0  109.0  42.0    2018  West Bromwich Albion   \n",
       "\n",
       "[4 rows x 46 columns]"
      ]
     },
     "execution_count": 2,
     "metadata": {},
     "output_type": "execute_result"
    }
   ],
   "source": [
    "df = pd.read_csv('Latest_epl_data.csv', index_col=0)\n",
    "df.tail(4)"
   ]
  },
  {
   "cell_type": "code",
   "execution_count": 3,
   "id": "GTVnRxXnb4RU",
   "metadata": {
    "colab": {
     "base_uri": "https://localhost:8080/"
    },
    "id": "GTVnRxXnb4RU",
    "outputId": "227d7365-db28-4b5d-e414-0737b11e66b1"
   },
   "outputs": [
    {
     "data": {
      "text/plain": [
       "Index(['Date', 'Time_x', 'Comp', 'Round', 'Day', 'Venue', 'Result', 'GF', 'GA',\n",
       "       'Opponent', 'xG', 'xGA', 'Poss', 'Attendance', 'Captain', 'Formation',\n",
       "       'Referee', 'Match Report', 'Notes', 'Sh', 'SoT', 'FK', 'Dist', 'PK',\n",
       "       'PKatt', 'Time_y', 'Cmp', 'Cmp.1', 'Cmp.2', 'Cmp.3', 'Att', 'Att.1',\n",
       "       'Att.2', 'Att.3', 'Cmp%', 'Cmp%.1', 'Cmp%.2', 'Cmp%.3', 'TotDist',\n",
       "       'PrgDist', 'Cmp.4', 'Cmp.5', 'Cmp.6', 'Cmp.7', 'Season', 'Team'],\n",
       "      dtype='object')"
      ]
     },
     "execution_count": 3,
     "metadata": {},
     "output_type": "execute_result"
    }
   ],
   "source": [
    "df.columns"
   ]
  },
  {
   "cell_type": "code",
   "execution_count": 4,
   "id": "3c738921",
   "metadata": {
    "colab": {
     "base_uri": "https://localhost:8080/"
    },
    "id": "3c738921",
    "outputId": "0a6c1582-19de-4c74-da34-b1e6166b21f4"
   },
   "outputs": [
    {
     "data": {
      "text/plain": [
       "(4700, 46)"
      ]
     },
     "execution_count": 4,
     "metadata": {},
     "output_type": "execute_result"
    }
   ],
   "source": [
    "#checking for shape\n",
    "df.shape"
   ]
  },
  {
   "cell_type": "markdown",
   "id": "-MlYgcgKpl_q",
   "metadata": {
    "id": "-MlYgcgKpl_q"
   },
   "source": [
    "> Our dataset has 4700 rows . Each row represents an individual match for a team and various features of the match."
   ]
  },
  {
   "cell_type": "code",
   "execution_count": 5,
   "id": "a69f31ba",
   "metadata": {
    "colab": {
     "base_uri": "https://localhost:8080/"
    },
    "id": "a69f31ba",
    "outputId": "e81d21aa-5261-4396-9ccb-28b6e075ddb4"
   },
   "outputs": [
    {
     "name": "stdout",
     "output_type": "stream",
     "text": [
      "<class 'pandas.core.frame.DataFrame'>\n",
      "Index: 4700 entries, 0 to 4699\n",
      "Data columns (total 46 columns):\n",
      " #   Column        Non-Null Count  Dtype  \n",
      "---  ------        --------------  -----  \n",
      " 0   Date          4700 non-null   object \n",
      " 1   Time_x        4700 non-null   object \n",
      " 2   Comp          4700 non-null   object \n",
      " 3   Round         4700 non-null   object \n",
      " 4   Day           4700 non-null   object \n",
      " 5   Venue         4700 non-null   object \n",
      " 6   Result        4700 non-null   object \n",
      " 7   GF            4700 non-null   float64\n",
      " 8   GA            4700 non-null   float64\n",
      " 9   Opponent      4700 non-null   object \n",
      " 10  xG            4700 non-null   float64\n",
      " 11  xGA           4700 non-null   float64\n",
      " 12  Poss          4700 non-null   float64\n",
      " 13  Attendance    3816 non-null   float64\n",
      " 14  Captain       4700 non-null   object \n",
      " 15  Formation     4700 non-null   object \n",
      " 16  Referee       4700 non-null   object \n",
      " 17  Match Report  4700 non-null   object \n",
      " 18  Notes         0 non-null      float64\n",
      " 19  Sh            4700 non-null   float64\n",
      " 20  SoT           4700 non-null   float64\n",
      " 21  FK            4700 non-null   float64\n",
      " 22  Dist          4697 non-null   float64\n",
      " 23  PK            4700 non-null   float64\n",
      " 24  PKatt         4700 non-null   float64\n",
      " 25  Time_y        4700 non-null   object \n",
      " 26  Cmp           4700 non-null   float64\n",
      " 27  Cmp.1         4700 non-null   float64\n",
      " 28  Cmp.2         4700 non-null   float64\n",
      " 29  Cmp.3         4700 non-null   float64\n",
      " 30  Att           4700 non-null   float64\n",
      " 31  Att.1         4700 non-null   float64\n",
      " 32  Att.2         4700 non-null   float64\n",
      " 33  Att.3         4700 non-null   float64\n",
      " 34  Cmp%          4700 non-null   float64\n",
      " 35  Cmp%.1        4700 non-null   float64\n",
      " 36  Cmp%.2        4700 non-null   float64\n",
      " 37  Cmp%.3        4700 non-null   float64\n",
      " 38  TotDist       4700 non-null   float64\n",
      " 39  PrgDist       4700 non-null   float64\n",
      " 40  Cmp.4         4700 non-null   float64\n",
      " 41  Cmp.5         4700 non-null   float64\n",
      " 42  Cmp.6         4700 non-null   float64\n",
      " 43  Cmp.7         4700 non-null   float64\n",
      " 44  Season        4700 non-null   int64  \n",
      " 45  Team          4700 non-null   object \n",
      "dtypes: float64(31), int64(1), object(14)\n",
      "memory usage: 1.7+ MB\n"
     ]
    }
   ],
   "source": [
    "# Checking dataframes' info\n",
    "df.info()"
   ]
  },
  {
   "cell_type": "markdown",
   "id": "U0KClMhAsEBm",
   "metadata": {
    "id": "U0KClMhAsEBm"
   },
   "source": [
    "> We have 46 columns. One column is of the interger dtype, 14 columns are of object dtype and 31 columns are of float datatype."
   ]
  },
  {
   "cell_type": "code",
   "execution_count": 6,
   "id": "10fbfe09",
   "metadata": {
    "colab": {
     "base_uri": "https://localhost:8080/"
    },
    "id": "10fbfe09",
    "outputId": "5135e148-2fe6-4a8f-d517-196da2caed72"
   },
   "outputs": [
    {
     "data": {
      "text/plain": [
       "Index(['Date', 'Time_x', 'Comp', 'Round', 'Day', 'Venue', 'Result', 'GF', 'GA',\n",
       "       'Opponent', 'xG', 'xGA', 'Poss', 'Attendance', 'Captain', 'Formation',\n",
       "       'Referee', 'Match Report', 'Notes', 'Sh', 'SoT', 'FK', 'Dist', 'PK',\n",
       "       'PKatt', 'Time_y', 'Cmp', 'Cmp.1', 'Cmp.2', 'Cmp.3', 'Att', 'Att.1',\n",
       "       'Att.2', 'Att.3', 'Cmp%', 'Cmp%.1', 'Cmp%.2', 'Cmp%.3', 'TotDist',\n",
       "       'PrgDist', 'Cmp.4', 'Cmp.5', 'Cmp.6', 'Cmp.7', 'Season', 'Team'],\n",
       "      dtype='object')"
      ]
     },
     "execution_count": 6,
     "metadata": {},
     "output_type": "execute_result"
    }
   ],
   "source": [
    "# Checking the column names.\n",
    "df.columns"
   ]
  },
  {
   "cell_type": "markdown",
   "id": "xVwvHdgIpywf",
   "metadata": {
    "id": "xVwvHdgIpywf"
   },
   "source": [
    "Our column include:- date, time, competition, round, day, venue, result, goals for, goals against, team playing against, expected goals, expected goals allowed, possesions, Attendance, Captain, Formation, Referee, Match Report, Notes, Sh(total shots), SoT(shots on target), FK(free kicks), Distance, PKatt(penalty kicks attempted, Cmp(Passes completed), Att(Passes attempted), TotDist(Total Passing Distance), PrgDist(Progressive Passing Distance), Season, Team"
   ]
  },
  {
   "cell_type": "markdown",
   "id": "1e349fb3",
   "metadata": {
    "id": "1e349fb3"
   },
   "source": [
    "**Duplicate values**"
   ]
  },
  {
   "cell_type": "code",
   "execution_count": 7,
   "id": "f3HgRiYRsTU4",
   "metadata": {
    "colab": {
     "base_uri": "https://localhost:8080/"
    },
    "id": "f3HgRiYRsTU4",
    "outputId": "2dcb1ec3-405f-4f09-84d1-82c1165162bd"
   },
   "outputs": [
    {
     "data": {
      "text/plain": [
       "0"
      ]
     },
     "execution_count": 7,
     "metadata": {},
     "output_type": "execute_result"
    }
   ],
   "source": [
    "#Checking for duplicates\n",
    "df.duplicated().sum()\n"
   ]
  },
  {
   "cell_type": "markdown",
   "id": "7CRXVzeQsjSA",
   "metadata": {
    "id": "7CRXVzeQsjSA"
   },
   "source": [
    "We have no duplicated records in our dataset\n"
   ]
  },
  {
   "cell_type": "markdown",
   "id": "40520a9f",
   "metadata": {
    "id": "40520a9f"
   },
   "source": [
    "**Null Values**"
   ]
  },
  {
   "cell_type": "code",
   "execution_count": 8,
   "id": "Y1l18pI7ssYI",
   "metadata": {
    "colab": {
     "base_uri": "https://localhost:8080/"
    },
    "id": "Y1l18pI7ssYI",
    "outputId": "370560ac-39d2-4870-e1dd-034b8d990d21"
   },
   "outputs": [
    {
     "data": {
      "text/plain": [
       "Date              0.000000\n",
       "Time_x            0.000000\n",
       "Comp              0.000000\n",
       "Round             0.000000\n",
       "Day               0.000000\n",
       "Venue             0.000000\n",
       "Result            0.000000\n",
       "GF                0.000000\n",
       "GA                0.000000\n",
       "Opponent          0.000000\n",
       "xG                0.000000\n",
       "xGA               0.000000\n",
       "Poss              0.000000\n",
       "Attendance       18.808511\n",
       "Captain           0.000000\n",
       "Formation         0.000000\n",
       "Referee           0.000000\n",
       "Match Report      0.000000\n",
       "Notes           100.000000\n",
       "Sh                0.000000\n",
       "SoT               0.000000\n",
       "FK                0.000000\n",
       "Dist              0.063830\n",
       "PK                0.000000\n",
       "PKatt             0.000000\n",
       "Time_y            0.000000\n",
       "Cmp               0.000000\n",
       "Cmp.1             0.000000\n",
       "Cmp.2             0.000000\n",
       "Cmp.3             0.000000\n",
       "Att               0.000000\n",
       "Att.1             0.000000\n",
       "Att.2             0.000000\n",
       "Att.3             0.000000\n",
       "Cmp%              0.000000\n",
       "Cmp%.1            0.000000\n",
       "Cmp%.2            0.000000\n",
       "Cmp%.3            0.000000\n",
       "TotDist           0.000000\n",
       "PrgDist           0.000000\n",
       "Cmp.4             0.000000\n",
       "Cmp.5             0.000000\n",
       "Cmp.6             0.000000\n",
       "Cmp.7             0.000000\n",
       "Season            0.000000\n",
       "Team              0.000000\n",
       "dtype: float64"
      ]
     },
     "execution_count": 8,
     "metadata": {},
     "output_type": "execute_result"
    }
   ],
   "source": [
    "#Checking for percentage of null values\n",
    "Null_values_percentage=(df.isna().sum()/len(df))*100\n",
    "Null_values_percentage"
   ]
  },
  {
   "cell_type": "markdown",
   "id": "hMBrAtXSs1wm",
   "metadata": {
    "id": "hMBrAtXSs1wm"
   },
   "source": [
    "Our dataset has a few columns with nulls, this includes; distance, attendance and notes. With attendance having a 18.81% and notes 100% of null values."
   ]
  },
  {
   "cell_type": "code",
   "execution_count": 9,
   "id": "04786e76",
   "metadata": {
    "colab": {
     "base_uri": "https://localhost:8080/"
    },
    "id": "04786e76",
    "outputId": "e3f11035-be2c-48ec-bec6-e2aef35d798f"
   },
   "outputs": [
    {
     "data": {
      "text/plain": [
       "array(['Manchester City ', 'Tottenham Hotspur ', 'Arsenal ', 'Liverpool ',\n",
       "       'Aston Villa ', 'Brighton and Hove Albion ', 'West Ham United ',\n",
       "       'Newcastle United ', 'Crystal Palace ', 'Manchester United ',\n",
       "       'Chelsea ', 'Nottingham Forest ', 'Fulham ', 'Brentford ',\n",
       "       'Wolverhampton Wanderers ', 'Everton ', 'Luton Town ', 'Burnley ',\n",
       "       'Bournemouth ', 'Sheffield United ', 'Leicester City ',\n",
       "       'Leeds United ', 'Southampton ', 'Watford ', 'Norwich City ',\n",
       "       'West Bromwich Albion ', 'Cardiff City ', 'Huddersfield Town ',\n",
       "       'Swansea City ', 'Stoke City '], dtype=object)"
      ]
     },
     "execution_count": 9,
     "metadata": {},
     "output_type": "execute_result"
    }
   ],
   "source": [
    "# checking on unique teams\n",
    "df['Team'].unique()"
   ]
  },
  {
   "cell_type": "markdown",
   "id": "-LLL9q8MrQTA",
   "metadata": {
    "id": "-LLL9q8MrQTA"
   },
   "source": [
    "The above teams in the premier league will be our focus in this match prediction."
   ]
  },
  {
   "cell_type": "code",
   "execution_count": 10,
   "id": "FUCgyjqFrXJl",
   "metadata": {
    "colab": {
     "base_uri": "https://localhost:8080/"
    },
    "id": "FUCgyjqFrXJl",
    "outputId": "4fb05d9d-381a-4bb7-c864-5de323ac4f91"
   },
   "outputs": [
    {
     "data": {
      "text/plain": [
       "Team\n",
       "Manchester City              235\n",
       "Newcastle United             235\n",
       "Tottenham Hotspur            235\n",
       "Chelsea                      235\n",
       "Manchester United            235\n",
       "Crystal Palace               235\n",
       "Everton                      235\n",
       "West Ham United              235\n",
       "Arsenal                      235\n",
       "Liverpool                    235\n",
       "Brighton and Hove Albion     235\n",
       "Southampton                  228\n",
       "Leicester City               228\n",
       "Burnley                      197\n",
       "Wolverhampton Wanderers      197\n",
       "Bournemouth                  159\n",
       "Aston Villa                  159\n",
       "Watford                      152\n",
       "Fulham                       121\n",
       "Leeds United                 114\n",
       "Brentford                     83\n",
       "Sheffield United              83\n",
       "Norwich City                  76\n",
       "West Bromwich Albion          76\n",
       "Huddersfield Town             76\n",
       "Nottingham Forest             45\n",
       "Cardiff City                  38\n",
       "Swansea City                  38\n",
       "Stoke City                    38\n",
       "Luton Town                     7\n",
       "Name: count, dtype: int64"
      ]
     },
     "execution_count": 10,
     "metadata": {},
     "output_type": "execute_result"
    }
   ],
   "source": [
    "#Checking teams value_count\n",
    "df[\"Team\"].value_counts()"
   ]
  },
  {
   "cell_type": "markdown",
   "id": "9o8_LNiarVcV",
   "metadata": {
    "id": "9o8_LNiarVcV"
   },
   "source": [
    "* The value count showcases how many games each team played. Teams with 38 games\n",
    "played 1 season due to relegation from and promotion to the premier league , teams with 76 games played 2 seasons, teams with 114 games played 3 seasons and teams with 152 games played 4 seasons.With exception of teams like Luton town among others has only played 7 games in the 2023/2024 season."
   ]
  },
  {
   "cell_type": "code",
   "execution_count": 11,
   "id": "SNbI5zs-2Due",
   "metadata": {
    "colab": {
     "base_uri": "https://localhost:8080/"
    },
    "id": "SNbI5zs-2Due",
    "outputId": "d8568bfb-bd29-4495-c1e3-fa9e5bdcb575"
   },
   "outputs": [
    {
     "data": {
      "text/plain": [
       "array(['Premier League'], dtype=object)"
      ]
     },
     "execution_count": 11,
     "metadata": {},
     "output_type": "execute_result"
    }
   ],
   "source": [
    "df['Comp'].unique()"
   ]
  },
  {
   "cell_type": "markdown",
   "id": "umrnP_j_22xH",
   "metadata": {
    "id": "umrnP_j_22xH"
   },
   "source": [
    "Our dataset is focused on the Premier league competition data since its the most popular and competive footbal competition."
   ]
  },
  {
   "cell_type": "markdown",
   "id": "jMQxuNEek9CW",
   "metadata": {
    "id": "jMQxuNEek9CW"
   },
   "source": [
    "**Data Understanding Summary:**<br>\n",
    "\n",
    "1. Number of Rows and Columns:<br>\n",
    "\n",
    "The dataset contains 4700 rows and 46 columns, representing 4700 Premier League games from different teams and 46 different statistics associated with these games.<br>\n",
    "\n",
    "2. Data Types:<br>\n",
    "\n",
    "There are three data types in the dataset: integer, float, and object.<br>\n",
    "Integer: 3 columns (e.g., 'GF', 'GA', 'Season')<br>\n",
    "Float: 29 columns (e.g., 'xG', 'xGA', 'Poss', 'Attendance', etc.)<br>\n",
    "Object: 14 columns (e.g., 'Date', 'Comp', 'Round', 'Venue', 'Result', etc.)<br>\n",
    "\n",
    "3. Key Columns:<br>\n",
    "\n",
    "Date and Time:<br>\n",
    "'Date' and 'Time_x' columns represent the date and time of the matches.<br>\n",
    "\n",
    "4. Match Details:<br>\n",
    "\n",
    "'Comp', 'Round', 'Venue', 'Result' provide details about the competition, round, venue, and match result.<br>\n",
    "\n",
    "5. Team Information:<br>\n",
    "\n",
    "'Team' column contains the names of the Premier League teams participating in the matches.<br>\n",
    "\n",
    "6. Performance Metrics:<br>\n",
    "\n",
    "Metrics include goals ('GF', 'GA'), expected goals ('xG', 'xGA'), possession ('Poss'), shots ('Sh'), shots on target ('SoT'), free kicks ('FK'), penalties ('PK', 'PKatt'), and passing statistics ('Cmp', 'Att', 'Cmp%', etc.).<br>\n",
    "\n",
    "* Other Information:<br>\n",
    "'Attendance' represents the number of spectators attending the match.\n",
    "'Notes', 'Match Report' contain additional notes and match reports.<br>\n",
    "\n",
    "* Data Quality:*<br>\n",
    "Null Values:<br>\n",
    "'Attendance' column has approximately 29% null values, while 'Notes' column has 100% null values.<br>\n",
    "\n",
    "* Duplicates:<br>\n",
    "There are no duplicate records in the dataset.<br>\n",
    "\n",
    "* Teams Information:*<br)\n",
    "Teams:<br>\n",
    "There are 26 unique Premier League teams in the dataset.<br>\n",
    "\n",
    "* Team Participation:<br>\n",
    "Each team has participated in a different number of matches. Teams with 38 matches played for one season, teams with 76 matches played for two seasons, teams with 114 matches played for three seasons, and teams with 152 matches played for four seasons, 190 matches  played for 5 seasons and 228 games played for 6 seasons."
   ]
  },
  {
   "cell_type": "markdown",
   "id": "yuttZIi7tL1T",
   "metadata": {
    "id": "yuttZIi7tL1T"
   },
   "source": [
    "## <b>Data Cleaning and Preparation</b>"
   ]
  },
  {
   "cell_type": "markdown",
   "id": "7e97599d",
   "metadata": {},
   "source": [
    "Some of the team names under the opponent column do not match with those under the Team columns. We create a dictionary to ensure that all team names in the Team columns and in the opponent column are matching."
   ]
  },
  {
   "cell_type": "code",
   "execution_count": 12,
   "id": "NbUpIqzYg9TZ",
   "metadata": {
    "id": "NbUpIqzYg9TZ"
   },
   "outputs": [],
   "source": [
    "class MissingDict(dict):\n",
    "    __missing__ = lambda self, key: key\n",
    "\n",
    "map_values = {\"Brighton and Hove Albion \": \"Brighton\", \"Manchester United \": \"Manchester Utd\", \"Newcastle United \": \"Newcastle Utd\",\n",
    "              \"Tottenham Hotspur \": \"Tottenham\", \"West Ham United \": \"West Ham\", \"Wolverhampton Wanderers \": \"Wolves\", 'Nottingham Forest ': \"Nott'ham Forest\",\n",
    "              'West Bromwich Albion ': 'West Bromwich Albion ', 'Sheffield United ': 'Sheffield Utd' }\n",
    "mapping = MissingDict(**map_values)"
   ]
  },
  {
   "cell_type": "code",
   "execution_count": 13,
   "id": "l3-MsFP1hEMI",
   "metadata": {
    "id": "l3-MsFP1hEMI"
   },
   "outputs": [],
   "source": [
    "df[\"Team\"] = df[\"Team\"].map(mapping)"
   ]
  },
  {
   "cell_type": "code",
   "execution_count": 14,
   "id": "uRF6uUFohJx9",
   "metadata": {
    "colab": {
     "base_uri": "https://localhost:8080/"
    },
    "id": "uRF6uUFohJx9",
    "outputId": "a74d1cf6-2a5b-4b42-f82f-0d8d8ceffb49"
   },
   "outputs": [
    {
     "data": {
      "text/plain": [
       "array(['Manchester City ', 'Tottenham', 'Arsenal ', 'Liverpool ',\n",
       "       'Aston Villa ', 'Brighton', 'West Ham', 'Newcastle Utd',\n",
       "       'Crystal Palace ', 'Manchester Utd', 'Chelsea ', \"Nott'ham Forest\",\n",
       "       'Fulham ', 'Brentford ', 'Wolves', 'Everton ', 'Luton Town ',\n",
       "       'Burnley ', 'Bournemouth ', 'Sheffield Utd', 'Leicester City ',\n",
       "       'Leeds United ', 'Southampton ', 'Watford ', 'Norwich City ',\n",
       "       'West Bromwich Albion ', 'Cardiff City ', 'Huddersfield Town ',\n",
       "       'Swansea City ', 'Stoke City '], dtype=object)"
      ]
     },
     "execution_count": 14,
     "metadata": {},
     "output_type": "execute_result"
    }
   ],
   "source": [
    "df[\"Team\"].unique()"
   ]
  },
  {
   "cell_type": "markdown",
   "id": "ql82AjdDyrKO",
   "metadata": {
    "id": "ql82AjdDyrKO"
   },
   "source": [
    "Converting date and time object into datetime"
   ]
  },
  {
   "cell_type": "code",
   "execution_count": 15,
   "id": "97e2fc77",
   "metadata": {
    "id": "97e2fc77"
   },
   "outputs": [],
   "source": [
    "# converting the date object to datetime\n",
    "df['Date'] = pd.to_datetime(df['Date'] + ' ' + df['Time_x'])"
   ]
  },
  {
   "cell_type": "code",
   "execution_count": 16,
   "id": "6977a57e",
   "metadata": {
    "id": "6977a57e"
   },
   "outputs": [],
   "source": [
    "#Converting Time object to datetime.\n",
    "df['Time'] = pd.to_datetime(df['Time_x'], format='%H:%M').dt.time"
   ]
  },
  {
   "cell_type": "code",
   "execution_count": 17,
   "id": "k6OJMDj7rm5N",
   "metadata": {
    "colab": {
     "base_uri": "https://localhost:8080/"
    },
    "id": "k6OJMDj7rm5N",
    "outputId": "eb50ed00-b0ac-4e77-e7ad-954c54b6d22e"
   },
   "outputs": [
    {
     "name": "stdout",
     "output_type": "stream",
     "text": [
      "<class 'pandas.core.frame.DataFrame'>\n",
      "Index: 4700 entries, 0 to 4699\n",
      "Data columns (total 47 columns):\n",
      " #   Column        Non-Null Count  Dtype         \n",
      "---  ------        --------------  -----         \n",
      " 0   Date          4700 non-null   datetime64[ns]\n",
      " 1   Time_x        4700 non-null   object        \n",
      " 2   Comp          4700 non-null   object        \n",
      " 3   Round         4700 non-null   object        \n",
      " 4   Day           4700 non-null   object        \n",
      " 5   Venue         4700 non-null   object        \n",
      " 6   Result        4700 non-null   object        \n",
      " 7   GF            4700 non-null   float64       \n",
      " 8   GA            4700 non-null   float64       \n",
      " 9   Opponent      4700 non-null   object        \n",
      " 10  xG            4700 non-null   float64       \n",
      " 11  xGA           4700 non-null   float64       \n",
      " 12  Poss          4700 non-null   float64       \n",
      " 13  Attendance    3816 non-null   float64       \n",
      " 14  Captain       4700 non-null   object        \n",
      " 15  Formation     4700 non-null   object        \n",
      " 16  Referee       4700 non-null   object        \n",
      " 17  Match Report  4700 non-null   object        \n",
      " 18  Notes         0 non-null      float64       \n",
      " 19  Sh            4700 non-null   float64       \n",
      " 20  SoT           4700 non-null   float64       \n",
      " 21  FK            4700 non-null   float64       \n",
      " 22  Dist          4697 non-null   float64       \n",
      " 23  PK            4700 non-null   float64       \n",
      " 24  PKatt         4700 non-null   float64       \n",
      " 25  Time_y        4700 non-null   object        \n",
      " 26  Cmp           4700 non-null   float64       \n",
      " 27  Cmp.1         4700 non-null   float64       \n",
      " 28  Cmp.2         4700 non-null   float64       \n",
      " 29  Cmp.3         4700 non-null   float64       \n",
      " 30  Att           4700 non-null   float64       \n",
      " 31  Att.1         4700 non-null   float64       \n",
      " 32  Att.2         4700 non-null   float64       \n",
      " 33  Att.3         4700 non-null   float64       \n",
      " 34  Cmp%          4700 non-null   float64       \n",
      " 35  Cmp%.1        4700 non-null   float64       \n",
      " 36  Cmp%.2        4700 non-null   float64       \n",
      " 37  Cmp%.3        4700 non-null   float64       \n",
      " 38  TotDist       4700 non-null   float64       \n",
      " 39  PrgDist       4700 non-null   float64       \n",
      " 40  Cmp.4         4700 non-null   float64       \n",
      " 41  Cmp.5         4700 non-null   float64       \n",
      " 42  Cmp.6         4700 non-null   float64       \n",
      " 43  Cmp.7         4700 non-null   float64       \n",
      " 44  Season        4700 non-null   int64         \n",
      " 45  Team          4700 non-null   object        \n",
      " 46  Time          4700 non-null   object        \n",
      "dtypes: datetime64[ns](1), float64(31), int64(1), object(14)\n",
      "memory usage: 1.7+ MB\n"
     ]
    }
   ],
   "source": [
    "df.info()"
   ]
  },
  {
   "cell_type": "markdown",
   "id": "Bj4jRdb7zFPm",
   "metadata": {
    "id": "Bj4jRdb7zFPm"
   },
   "source": [
    "#### Handling missing values"
   ]
  },
  {
   "cell_type": "code",
   "execution_count": 18,
   "id": "YWLfRN9IzQWB",
   "metadata": {
    "id": "YWLfRN9IzQWB"
   },
   "outputs": [],
   "source": [
    "#Filling the null values in the attendance column\n",
    "\n",
    "df['Season'] = df['Date'].dt.year  # Extract the year as the season\n",
    "seasonal_median = df.groupby('Season')['Attendance'].transform('median')\n",
    "df['Attendance'].fillna(seasonal_median, inplace=True)"
   ]
  },
  {
   "cell_type": "markdown",
   "id": "L4uHV1i1zexA",
   "metadata": {
    "id": "L4uHV1i1zexA"
   },
   "source": [
    "We used seasonal patterns to predict and fill in the missing values of the attendance column. Paying attention to seasons such as covid period that greatly affected match attendance."
   ]
  },
  {
   "cell_type": "code",
   "execution_count": 19,
   "id": "0c79db91",
   "metadata": {
    "id": "0c79db91"
   },
   "outputs": [],
   "source": [
    "median_dist = df['Dist'].median()\n",
    "\n",
    "# Fill missing values in the 'Dist' column with the calculated median\n",
    "df['Dist'].fillna(median_dist, inplace=True)"
   ]
  },
  {
   "cell_type": "markdown",
   "id": "87os_Gxy0SJj",
   "metadata": {
    "id": "87os_Gxy0SJj"
   },
   "source": [
    "Dropping unnecessary columns."
   ]
  },
  {
   "cell_type": "code",
   "execution_count": 20,
   "id": "eb773074",
   "metadata": {
    "colab": {
     "base_uri": "https://localhost:8080/"
    },
    "id": "eb773074",
    "outputId": "8ce605d2-c9cd-4969-a696-6dd68589e649"
   },
   "outputs": [
    {
     "name": "stdout",
     "output_type": "stream",
     "text": [
      "Index(['Date', 'Round', 'Day', 'Venue', 'Result', 'GF', 'GA', 'Opponent',\n",
      "       'Poss', 'Attendance', 'Formation', 'Sh', 'SoT', 'FK', 'Dist', 'PK',\n",
      "       'PKatt', 'Cmp', 'Att', 'TotDist', 'PrgDist', 'Season', 'Team', 'Time'],\n",
      "      dtype='object')\n"
     ]
    }
   ],
   "source": [
    "# Dropping unnecessary columns.\n",
    "\n",
    "columns_to_drop = ['Time_x' ,'Comp','xGA', 'xG', 'Captain', 'Referee', 'Match Report', 'Notes', 'Cmp.1', 'Cmp.2', 'Cmp.3', 'Att.1', 'Att.2',\n",
    "                   'Att.3', 'Cmp%', 'Cmp%.1', 'Cmp%.2', 'Cmp%.3', 'Cmp.4', 'Cmp.5', 'Cmp.6', 'Cmp.7', 'Time_y']\n",
    "\n",
    "df.drop(columns=columns_to_drop, axis=1, inplace=True)\n",
    "\n",
    "# Now you can check the columns after dropping the specified ones\n",
    "print(df.columns)\n"
   ]
  },
  {
   "cell_type": "code",
   "execution_count": 21,
   "id": "322902d5",
   "metadata": {
    "colab": {
     "base_uri": "https://localhost:8080/"
    },
    "id": "322902d5",
    "outputId": "498521ac-dfb6-4587-c6bb-5b6e3a44e1e3"
   },
   "outputs": [
    {
     "data": {
      "text/plain": [
       "Date          0\n",
       "Round         0\n",
       "Day           0\n",
       "Venue         0\n",
       "Result        0\n",
       "GF            0\n",
       "GA            0\n",
       "Opponent      0\n",
       "Poss          0\n",
       "Attendance    0\n",
       "Formation     0\n",
       "Sh            0\n",
       "SoT           0\n",
       "FK            0\n",
       "Dist          0\n",
       "PK            0\n",
       "PKatt         0\n",
       "Cmp           0\n",
       "Att           0\n",
       "TotDist       0\n",
       "PrgDist       0\n",
       "Season        0\n",
       "Team          0\n",
       "Time          0\n",
       "dtype: int64"
      ]
     },
     "execution_count": 21,
     "metadata": {},
     "output_type": "execute_result"
    }
   ],
   "source": [
    "# Rechecking columns to ensure no missing values\n",
    "df.isna().sum()"
   ]
  },
  {
   "cell_type": "code",
   "execution_count": 22,
   "id": "b2530bf8",
   "metadata": {
    "colab": {
     "base_uri": "https://localhost:8080/"
    },
    "id": "b2530bf8",
    "outputId": "89a40fd6-4279-400b-f0a0-54c41af22e17"
   },
   "outputs": [
    {
     "name": "stdout",
     "output_type": "stream",
     "text": [
      "<class 'pandas.core.frame.DataFrame'>\n",
      "Index: 4700 entries, 0 to 4699\n",
      "Data columns (total 24 columns):\n",
      " #   Column      Non-Null Count  Dtype         \n",
      "---  ------      --------------  -----         \n",
      " 0   Date        4700 non-null   datetime64[ns]\n",
      " 1   Round       4700 non-null   object        \n",
      " 2   Day         4700 non-null   object        \n",
      " 3   Venue       4700 non-null   object        \n",
      " 4   Result      4700 non-null   object        \n",
      " 5   GF          4700 non-null   float64       \n",
      " 6   GA          4700 non-null   float64       \n",
      " 7   Opponent    4700 non-null   object        \n",
      " 8   Poss        4700 non-null   float64       \n",
      " 9   Attendance  4700 non-null   float64       \n",
      " 10  Formation   4700 non-null   object        \n",
      " 11  Sh          4700 non-null   float64       \n",
      " 12  SoT         4700 non-null   float64       \n",
      " 13  FK          4700 non-null   float64       \n",
      " 14  Dist        4700 non-null   float64       \n",
      " 15  PK          4700 non-null   float64       \n",
      " 16  PKatt       4700 non-null   float64       \n",
      " 17  Cmp         4700 non-null   float64       \n",
      " 18  Att         4700 non-null   float64       \n",
      " 19  TotDist     4700 non-null   float64       \n",
      " 20  PrgDist     4700 non-null   float64       \n",
      " 21  Season      4700 non-null   int32         \n",
      " 22  Team        4700 non-null   object        \n",
      " 23  Time        4700 non-null   object        \n",
      "dtypes: datetime64[ns](1), float64(14), int32(1), object(8)\n",
      "memory usage: 899.6+ KB\n"
     ]
    }
   ],
   "source": [
    "df.info()"
   ]
  },
  {
   "cell_type": "markdown",
   "id": "Lsj-k0oOnuLy",
   "metadata": {
    "id": "Lsj-k0oOnuLy"
   },
   "source": [
    "The dataset has been successfully cleaned and prepared for analysis and predictions. Null values have been handled, unnecessary columns dropped, and data types are appropriate for further exploration. The dataset is now ready for in-depth analysis, visualization, and predictive modeling tasks related to Premier League match outcomes."
   ]
  },
  {
   "cell_type": "markdown",
   "id": "e31fcdaa",
   "metadata": {
    "id": "e31fcdaa"
   },
   "source": [
    "## Exploratory Data Analysis"
   ]
  },
  {
   "cell_type": "markdown",
   "id": "4139da2d",
   "metadata": {
    "id": "4139da2d"
   },
   "source": [
    "### Univariate"
   ]
  },
  {
   "cell_type": "code",
   "execution_count": 23,
   "id": "a738e6ee",
   "metadata": {
    "colab": {
     "base_uri": "https://localhost:8080/",
     "height": 990
    },
    "id": "a738e6ee",
    "outputId": "dc69e4b9-8fb7-41c7-d7e1-a56702ca3b40"
   },
   "outputs": [
    {
     "data": {
      "text/html": [
       "<div>\n",
       "<style scoped>\n",
       "    .dataframe tbody tr th:only-of-type {\n",
       "        vertical-align: middle;\n",
       "    }\n",
       "\n",
       "    .dataframe tbody tr th {\n",
       "        vertical-align: top;\n",
       "    }\n",
       "\n",
       "    .dataframe thead th {\n",
       "        text-align: right;\n",
       "    }\n",
       "</style>\n",
       "<table border=\"1\" class=\"dataframe\">\n",
       "  <thead>\n",
       "    <tr style=\"text-align: right;\">\n",
       "      <th></th>\n",
       "      <th>Team</th>\n",
       "      <th>Wins</th>\n",
       "    </tr>\n",
       "  </thead>\n",
       "  <tbody>\n",
       "    <tr>\n",
       "      <th>0</th>\n",
       "      <td>Arsenal</td>\n",
       "      <td>125</td>\n",
       "    </tr>\n",
       "    <tr>\n",
       "      <th>1</th>\n",
       "      <td>Aston Villa</td>\n",
       "      <td>61</td>\n",
       "    </tr>\n",
       "    <tr>\n",
       "      <th>2</th>\n",
       "      <td>Bournemouth</td>\n",
       "      <td>44</td>\n",
       "    </tr>\n",
       "    <tr>\n",
       "      <th>3</th>\n",
       "      <td>Brentford</td>\n",
       "      <td>29</td>\n",
       "    </tr>\n",
       "    <tr>\n",
       "      <th>4</th>\n",
       "      <td>Brighton</td>\n",
       "      <td>71</td>\n",
       "    </tr>\n",
       "    <tr>\n",
       "      <th>5</th>\n",
       "      <td>Burnley</td>\n",
       "      <td>58</td>\n",
       "    </tr>\n",
       "    <tr>\n",
       "      <th>6</th>\n",
       "      <td>Cardiff City</td>\n",
       "      <td>10</td>\n",
       "    </tr>\n",
       "    <tr>\n",
       "      <th>7</th>\n",
       "      <td>Chelsea</td>\n",
       "      <td>115</td>\n",
       "    </tr>\n",
       "    <tr>\n",
       "      <th>8</th>\n",
       "      <td>Crystal Palace</td>\n",
       "      <td>73</td>\n",
       "    </tr>\n",
       "    <tr>\n",
       "      <th>9</th>\n",
       "      <td>Everton</td>\n",
       "      <td>78</td>\n",
       "    </tr>\n",
       "    <tr>\n",
       "      <th>10</th>\n",
       "      <td>Fulham</td>\n",
       "      <td>29</td>\n",
       "    </tr>\n",
       "    <tr>\n",
       "      <th>11</th>\n",
       "      <td>Huddersfield Town</td>\n",
       "      <td>12</td>\n",
       "    </tr>\n",
       "    <tr>\n",
       "      <th>12</th>\n",
       "      <td>Leeds United</td>\n",
       "      <td>34</td>\n",
       "    </tr>\n",
       "    <tr>\n",
       "      <th>13</th>\n",
       "      <td>Leicester City</td>\n",
       "      <td>88</td>\n",
       "    </tr>\n",
       "    <tr>\n",
       "      <th>14</th>\n",
       "      <td>Liverpool</td>\n",
       "      <td>155</td>\n",
       "    </tr>\n",
       "    <tr>\n",
       "      <th>15</th>\n",
       "      <td>Luton Town</td>\n",
       "      <td>1</td>\n",
       "    </tr>\n",
       "    <tr>\n",
       "      <th>16</th>\n",
       "      <td>Manchester City</td>\n",
       "      <td>180</td>\n",
       "    </tr>\n",
       "    <tr>\n",
       "      <th>17</th>\n",
       "      <td>Manchester Utd</td>\n",
       "      <td>125</td>\n",
       "    </tr>\n",
       "    <tr>\n",
       "      <th>18</th>\n",
       "      <td>Newcastle Utd</td>\n",
       "      <td>83</td>\n",
       "    </tr>\n",
       "    <tr>\n",
       "      <th>19</th>\n",
       "      <td>Norwich City</td>\n",
       "      <td>10</td>\n",
       "    </tr>\n",
       "    <tr>\n",
       "      <th>20</th>\n",
       "      <td>Nott'ham Forest</td>\n",
       "      <td>11</td>\n",
       "    </tr>\n",
       "    <tr>\n",
       "      <th>21</th>\n",
       "      <td>Sheffield Utd</td>\n",
       "      <td>21</td>\n",
       "    </tr>\n",
       "    <tr>\n",
       "      <th>22</th>\n",
       "      <td>Southampton</td>\n",
       "      <td>58</td>\n",
       "    </tr>\n",
       "    <tr>\n",
       "      <th>23</th>\n",
       "      <td>Stoke City</td>\n",
       "      <td>7</td>\n",
       "    </tr>\n",
       "    <tr>\n",
       "      <th>24</th>\n",
       "      <td>Swansea City</td>\n",
       "      <td>8</td>\n",
       "    </tr>\n",
       "    <tr>\n",
       "      <th>25</th>\n",
       "      <td>Tottenham</td>\n",
       "      <td>125</td>\n",
       "    </tr>\n",
       "    <tr>\n",
       "      <th>26</th>\n",
       "      <td>Watford</td>\n",
       "      <td>39</td>\n",
       "    </tr>\n",
       "    <tr>\n",
       "      <th>27</th>\n",
       "      <td>West Bromwich Albion</td>\n",
       "      <td>11</td>\n",
       "    </tr>\n",
       "    <tr>\n",
       "      <th>28</th>\n",
       "      <td>West Ham</td>\n",
       "      <td>85</td>\n",
       "    </tr>\n",
       "    <tr>\n",
       "      <th>29</th>\n",
       "      <td>Wolves</td>\n",
       "      <td>71</td>\n",
       "    </tr>\n",
       "  </tbody>\n",
       "</table>\n",
       "</div>"
      ],
      "text/plain": [
       "                     Team  Wins\n",
       "0                Arsenal    125\n",
       "1            Aston Villa     61\n",
       "2            Bournemouth     44\n",
       "3              Brentford     29\n",
       "4                Brighton    71\n",
       "5                Burnley     58\n",
       "6           Cardiff City     10\n",
       "7                Chelsea    115\n",
       "8         Crystal Palace     73\n",
       "9                Everton     78\n",
       "10                Fulham     29\n",
       "11     Huddersfield Town     12\n",
       "12          Leeds United     34\n",
       "13        Leicester City     88\n",
       "14             Liverpool    155\n",
       "15            Luton Town      1\n",
       "16       Manchester City    180\n",
       "17         Manchester Utd   125\n",
       "18          Newcastle Utd    83\n",
       "19          Norwich City     10\n",
       "20        Nott'ham Forest    11\n",
       "21          Sheffield Utd    21\n",
       "22           Southampton     58\n",
       "23            Stoke City      7\n",
       "24          Swansea City      8\n",
       "25              Tottenham   125\n",
       "26               Watford     39\n",
       "27  West Bromwich Albion     11\n",
       "28               West Ham    85\n",
       "29                 Wolves    71"
      ]
     },
     "execution_count": 23,
     "metadata": {},
     "output_type": "execute_result"
    }
   ],
   "source": [
    "y = df[df.Result == \"W\"].groupby('Team').size().reset_index(name='Wins')\n",
    "y"
   ]
  },
  {
   "cell_type": "code",
   "execution_count": 24,
   "id": "ee74fe18",
   "metadata": {
    "colab": {
     "base_uri": "https://localhost:8080/",
     "height": 607
    },
    "id": "ee74fe18",
    "outputId": "b816b8fa-d7f8-4582-a3ba-952aca389506"
   },
   "outputs": [
    {
     "data": {
      "image/png": "[encoded data removed]",
      "text/plain": [
       "<Figure size 1000x600 with 1 Axes>"
      ]
     },
     "metadata": {},
     "output_type": "display_data"
    }
   ],
   "source": [
    "# Create a scatter plot of wins vs. shots on target\n",
    "plt.figure(figsize=(10, 6))\n",
    "plt.scatter(y[\"Team\"],y[\"Wins\"], color='b', alpha=0.7)\n",
    "\n",
    "plt.title(\"Scatter Plot of Wins\")\n",
    "plt.xlabel(\"Team\")\n",
    "plt.ylabel(\"Wins\")\n",
    "\n",
    "plt.grid(True)\n",
    "plt.xticks(rotation = 90)\n",
    "plt.tight_layout()\n",
    "plt.show()"
   ]
  },
  {
   "cell_type": "markdown",
   "id": "d81200af",
   "metadata": {},
   "source": [
    "> The plots shows the number of wins for different teams. Manchester City and Liverpoolhave the highest number of wins with Luton Town having the least number of wins"
   ]
  },
  {
   "cell_type": "code",
   "execution_count": 25,
   "id": "37ad904a",
   "metadata": {
    "colab": {
     "base_uri": "https://localhost:8080/",
     "height": 607
    },
    "id": "37ad904a",
    "outputId": "6aac6a1c-93ae-4ae4-bee4-8c14791b9023"
   },
   "outputs": [
    {
     "data": {
      "image/png": "[encoded data removed]",
      "text/plain": [
       "<Figure size 1000x600 with 1 Axes>"
      ]
     },
     "metadata": {},
     "output_type": "display_data"
    }
   ],
   "source": [
    "#Filter the data for wins at home or away\n",
    "home_wins = df[(df[\"Venue\"] == \"Home\") & (df[\"Result\"] == \"W\")]\n",
    "away_wins = df[(df[\"Venue\"] == \"Away\") & (df[\"Result\"] == \"W\")]\n",
    "\n",
    "#Group the data by \"Team\" and count the wins\n",
    "home_win_counts = home_wins[\"Team\"].value_counts().sort_index()\n",
    "away_win_counts = away_wins[\"Team\"].value_counts().sort_index()\n",
    "\n",
    "#Ensure both arrays have the same length\n",
    "teams = set(home_win_counts.index) | set(away_win_counts.index)\n",
    "home_win_counts = home_win_counts.reindex(teams, fill_value=0)\n",
    "away_win_counts = away_win_counts.reindex(teams, fill_value=0)\n",
    "\n",
    "#Create a stacked bar graph\n",
    "fig, ax = plt.subplots(figsize=(10, 6))\n",
    "bar_width = 0.35\n",
    "padding = 0.1  # Adjust the padding as needed\n",
    "index = range(len(home_win_counts))\n",
    "\n",
    "bar1 = ax.bar(index, home_win_counts, bar_width, label=\"Home Wins\", align=\"center\")\n",
    "bar2 = ax.bar([i + bar_width + padding for i in index], away_win_counts, bar_width, label=\"Away Wins\", align=\"center\")\n",
    "\n",
    "ax.set_xlabel(\"Teams\")\n",
    "ax.set_ylabel(\"Counts\")\n",
    "ax.set_title(\"Team Wins at Home vs. Away\")\n",
    "ax.set_xticks([i + (bar_width + padding) / 2 for i in index])\n",
    "ax.set_xticklabels(teams)\n",
    "ax.legend()\n",
    "\n",
    "plt.xticks(rotation=90)  # Rotate x-axis labels for better readability\n",
    "plt.tight_layout()\n",
    "plt.show()"
   ]
  },
  {
   "cell_type": "markdown",
   "id": "827a8a73",
   "metadata": {},
   "source": [
    "Above is a comparison of results per team at home and away games:\n",
    "\n",
    "The plot above shows that most teams have more wins at home."
   ]
  },
  {
   "cell_type": "code",
   "execution_count": 26,
   "id": "63348ec3",
   "metadata": {
    "colab": {
     "base_uri": "https://localhost:8080/",
     "height": 675
    },
    "id": "63348ec3",
    "outputId": "2220611a-3b33-4309-b73e-0aa86014ef1f"
   },
   "outputs": [
    {
     "data": {
      "image/png": "[encoded data removed]",
      "text/plain": [
       "<Figure size 1400x800 with 1 Axes>"
      ]
     },
     "metadata": {},
     "output_type": "display_data"
    }
   ],
   "source": [
    "# Filter the DataFrame for winning, losing, and drawing teams\n",
    "wins = df[df['Result'] == 'W']\n",
    "losses = df[df['Result'] == 'L']\n",
    "draws = df[df['Result'] == 'D']\n",
    "\n",
    "# Count the number of wins, losses, and draws per team\n",
    "win_counts = wins['Team'].value_counts()\n",
    "loss_counts = losses['Team'].value_counts()\n",
    "draw_counts = draws['Team'].value_counts()\n",
    "\n",
    "# Create an array of team names\n",
    "teams = win_counts.index\n",
    "\n",
    "# Set the width of the bars\n",
    "bar_width = 0.3\n",
    "\n",
    "# Create an array of x-positions for the bars\n",
    "x_positions = np.arange(len(teams))\n",
    "\n",
    "# Create a bar chart with side-by-side bars for wins, losses, and draws\n",
    "plt.figure(figsize=(14,8))\n",
    "plt.bar(x_positions - bar_width, win_counts.values, width=bar_width, color='b', alpha=0.7, label='Wins')\n",
    "plt.bar(x_positions, loss_counts.values, width=bar_width, color='r', alpha=0.7, label='Losses')\n",
    "plt.bar(x_positions + bar_width, draw_counts.values, width=bar_width, color='g', alpha=0.7, label='Draws')\n",
    "\n",
    "plt.title('Number of Wins, Draws, and Losses per Team')\n",
    "plt.xlabel('Team')\n",
    "plt.ylabel('Count')\n",
    "\n",
    "plt.xticks(rotation=90)\n",
    "plt.grid(True)\n",
    "plt.xticks(x_positions, teams)\n",
    "plt.legend()\n",
    "plt.tight_layout()\n",
    "plt.grid(False)\n",
    "plt.show();"
   ]
  },
  {
   "cell_type": "markdown",
   "id": "e8106873",
   "metadata": {},
   "source": [
    "Above is a visualisation of the number of wins draws and losses per team across all the seasons\n",
    "\n",
    "Manchester City and Liverpool have the highest number of wins with Luton Town having the least number of wins"
   ]
  },
  {
   "cell_type": "code",
   "execution_count": 27,
   "id": "3d5c0312",
   "metadata": {
    "colab": {
     "base_uri": "https://localhost:8080/",
     "height": 778
    },
    "id": "3d5c0312",
    "outputId": "692ee4fd-c181-4863-8fd3-d0f1b9ff91c6"
   },
   "outputs": [
    {
     "ename": "SyntaxError",
     "evalue": "invalid syntax (1726882752.py, line 13)",
     "output_type": "error",
     "traceback": [
      "\u001b[1;36m  Cell \u001b[1;32mIn[27], line 13\u001b[1;36m\u001b[0m\n\u001b[1;33m    Above is the comparison of wins,draws and losses per formation:plt.show()\u001b[0m\n\u001b[1;37m                 ^\u001b[0m\n\u001b[1;31mSyntaxError\u001b[0m\u001b[1;31m:\u001b[0m invalid syntax\n"
     ]
    }
   ],
   "source": [
    "# Formation performance\n",
    "# Count the number of occurrences of each formation for each result\n",
    "formation_counts = df.groupby([\"Formation\", \"Result\"]).size().unstack(fill_value=0)\n",
    "\n",
    "# Plot a bar graph\n",
    "bar_width = 0.75\n",
    "ax = formation_counts.plot(kind=\"bar\", width=bar_width,figsize=(12, 8))\n",
    "ax.set_title(\"Formation vs. Result\")\n",
    "ax.set_xlabel(\"Formation\")\n",
    "ax.set_ylabel(\"Counts\")\n",
    "plt.xticks(rotation=90)\n",
    "plt.legend(title=\"Result\", loc=\"upper right\")\n",
    "Above is the comparison of wins,draws and losses per formation:plt.show()"
   ]
  },
  {
   "cell_type": "markdown",
   "id": "2d30dfbd",
   "metadata": {},
   "source": [
    "Above is the comparison of wins,draws and losses per formation:\n",
    "\n",
    "The most popular formation is the 4-3-3 formation with the highest number of wins, 4-2-3-1 formation and the 4-4-2 formation    the lowest win rate among the three."
   ]
  },
  {
   "cell_type": "code",
   "execution_count": null,
   "id": "888eabb0",
   "metadata": {
    "colab": {
     "base_uri": "https://localhost:8080/",
     "height": 807
    },
    "id": "888eabb0",
    "outputId": "702877e7-f8ad-4744-8ce2-9513e97627d7"
   },
   "outputs": [],
   "source": [
    "x = df[\"Result\"].value_counts()\n",
    "\n",
    "colors = plt.cm.Accent(np.linspace(0, 1, len(x)))\n",
    "plt.figure(figsize=(10,8))  # Set the figure size\n",
    "plt.bar(x.index, x.values,color=colors, width=0.6)\n",
    "\n",
    "# Add labels and a title\n",
    "plt.xlabel(\"Results\")\n",
    "plt.ylabel(\"Total counts\")\n",
    "plt.title(\"The Distribution of Results\")\n",
    "\n",
    "plt.xticks(rotation = 90)\n",
    "plt.tight_layout()\n",
    "plt.show();"
   ]
  },
  {
   "cell_type": "markdown",
   "id": "20abfc74",
   "metadata": {},
   "source": [
    "> The wins and losses are equal "
   ]
  },
  {
   "cell_type": "code",
   "execution_count": null,
   "id": "f51da84b",
   "metadata": {
    "colab": {
     "base_uri": "https://localhost:8080/",
     "height": 1000
    },
    "id": "f51da84b",
    "outputId": "39202b89-2fa2-4fa3-bf61-14233bb6480f"
   },
   "outputs": [],
   "source": [
    "x = df.groupby('Team')[['Sh','SoT']].mean()\n",
    "x"
   ]
  },
  {
   "cell_type": "code",
   "execution_count": null,
   "id": "d0eb3db8",
   "metadata": {
    "colab": {
     "base_uri": "https://localhost:8080/",
     "height": 787
    },
    "id": "d0eb3db8",
    "outputId": "68cf6962-906f-4b8c-e113-fd85dbfb4385"
   },
   "outputs": [],
   "source": [
    "# Visualizing total shots taken and total shots on target for each team\n",
    "import numpy as np\n",
    "\n",
    "# Create positions for bars\n",
    "bar_width = 0.4\n",
    "bar_positions = np.arange(len(x.index))\n",
    "plt.figure(figsize=(12, 8))\n",
    "plt.bar(bar_positions - bar_width/2, x['Sh'], color='skyblue', label='Sh', width=bar_width, align='center')\n",
    "plt.bar(bar_positions + bar_width/2, x['SoT'], color='salmon', label='SoT', width=bar_width, align='center')\n",
    "plt.xlabel('Team')\n",
    "plt.ylabel('Shots')\n",
    "plt.title('Shots Vs Shots on Target by Team')\n",
    "plt.xticks(bar_positions, x.index, rotation=90)\n",
    "plt.legend()\n",
    "plt.tight_layout()\n",
    "plt.show()"
   ]
  },
  {
   "cell_type": "markdown",
   "id": "db0f1634",
   "metadata": {},
   "source": []
  },
  {
   "cell_type": "code",
   "execution_count": null,
   "id": "96846009",
   "metadata": {
    "colab": {
     "base_uri": "https://localhost:8080/",
     "height": 607
    },
    "id": "96846009",
    "outputId": "3bf0ea9c-43a8-4106-b6d1-2caee5a0f430",
    "scrolled": false
   },
   "outputs": [],
   "source": [
    "# Group the data by year and get the average attendance for each year\n",
    "yearly_attendance = df.groupby('Season')['Attendance'].mean()\n",
    "\n",
    "# Extract the years as the x-axis values\n",
    "years = yearly_attendance.index\n",
    "\n",
    "# Extract the attendance values as the y-axis values\n",
    "attendance = yearly_attendance.values\n",
    "\n",
    "# Create a line plot\n",
    "plt.figure(figsize=(10, 6))\n",
    "plt.plot(years, attendance, marker='o', linestyle='-')\n",
    "plt.title('Average Attendance Over the Seasons')\n",
    "plt.xlabel('Year')\n",
    "plt.ylabel('Average Attendance')\n",
    "plt.grid(True)\n",
    "plt.xticks(rotation=45)\n",
    "plt.tight_layout()\n",
    "plt.show()"
   ]
  },
  {
   "cell_type": "markdown",
   "id": "dc72e909",
   "metadata": {
    "id": "dc72e909"
   },
   "source": [
    ">The year 2020 had the lowest average number of attendance of about 15,000 persons due to covid-19 and the highest average numbers of about 35,500 persons in 2022 whis the year when the world cup was held. Further analysis can be done to establish if there is a correlation between world cup being held in 2022 and the spike in match attendance in the premier league."
   ]
  },
  {
   "cell_type": "code",
   "execution_count": null,
   "id": "464df81b",
   "metadata": {
    "colab": {
     "base_uri": "https://localhost:8080/",
     "height": 564
    },
    "id": "464df81b",
    "outputId": "e942b2ab-1231-40cd-fa92-0bbde47d8af5"
   },
   "outputs": [],
   "source": [
    "# Create a distribution plot (histogram) of the \"Dist\" average distance in yards from goal of all shots taken\n",
    "plt.figure(figsize=(10, 6))\n",
    "sns.histplot(data=df, x=\"Dist\", bins=20, kde=True)  # Adjust 'bins' as needed\n",
    "plt.title('Distribution of Distance')\n",
    "plt.xlabel('Distance')\n",
    "plt.ylabel('Frequency')\n",
    "plt.grid(True)\n",
    "plt.show()"
   ]
  },
  {
   "cell_type": "markdown",
   "id": "02875fe5",
   "metadata": {
    "id": "02875fe5"
   },
   "source": [
    ">Most shots made from the matches had an average of 17 to 18 yards from the goal"
   ]
  },
  {
   "cell_type": "code",
   "execution_count": null,
   "id": "1e22992d",
   "metadata": {
    "colab": {
     "base_uri": "https://localhost:8080/",
     "height": 564
    },
    "id": "1e22992d",
    "outputId": "37a3ba61-5b3b-4f62-9d92-6f6da13aede3"
   },
   "outputs": [],
   "source": [
    "# Create a distribution plot (histogram) of the \"PK\" values\n",
    "plt.figure(figsize=(10, 6))\n",
    "sns.histplot(data=df, x=\"PKatt\", bins=10, kde=True)  # Adjust 'bins' as needed\n",
    "plt.title('Distribution of Penalty Kicks')\n",
    "plt.xlabel('Penalty Kicks')\n",
    "plt.ylabel('Frequency')\n",
    "plt.grid(True)\n",
    "plt.show()"
   ]
  },
  {
   "cell_type": "markdown",
   "id": "43cbdb5a",
   "metadata": {
    "id": "43cbdb5a"
   },
   "source": [
    "> Most teams did not get a penalty kick in their match. We have rare instances where the penalty kicks are more than one per match."
   ]
  },
  {
   "cell_type": "code",
   "execution_count": null,
   "id": "3bf79308",
   "metadata": {
    "colab": {
     "base_uri": "https://localhost:8080/",
     "height": 881
    },
    "id": "3bf79308",
    "outputId": "f715c82f-7bbc-41c5-f87d-b74ed2308c39"
   },
   "outputs": [],
   "source": [
    "# Get unique team names\n",
    "unique_teams = df['Team'].unique()\n",
    "num_teams = len(unique_teams)\n",
    "\n",
    "# Calculate the number of rows and columns for the subplot grid\n",
    "num_cols = 5 # Adjust the number of columns as needed\n",
    "num_rows = math.ceil(num_teams / num_cols)\n",
    "\n",
    "# Create a subplot grid\n",
    "fig, axs = plt.subplots(num_rows, num_cols, figsize=(16, 12))\n",
    "fig.subplots_adjust(hspace=0.5)  # Adjust vertical spacing\n",
    "\n",
    "# Iterate through unique teams and create distribution plots\n",
    "for i, team in enumerate(unique_teams):\n",
    "    row_idx = i // num_cols\n",
    "    col_idx = i % num_cols\n",
    "\n",
    "    team_data = df[df['Team'] == team]\n",
    "\n",
    "    ax = axs[row_idx, col_idx] if num_teams > 1 else axs  # Use axs directly if there's only one team\n",
    "\n",
    "    sns.histplot(data=team_data, x='GF', bins=10, kde=True, ax=ax)  # Adjust 'bins' as needed\n",
    "    ax.set_title(f'Distribution for {team}')\n",
    "    ax.set_xlabel('Goals Scored')\n",
    "    ax.set_ylabel('Frequency')\n",
    "\n",
    "# Remove any empty subplots if the number of teams is not a multiple of num_cols\n",
    "for i in range(num_teams, num_rows * num_cols):\n",
    "    fig.delaxes(axs.flatten()[i])\n",
    "\n",
    "plt.tight_layout()\n",
    "plt.show()"
   ]
  },
  {
   "cell_type": "markdown",
   "id": "a0a3a86d",
   "metadata": {
    "id": "a0a3a86d"
   },
   "source": [
    "## Data Preprocessing\n",
    "\n",
    "To prepare our data for modelling we will handle:\n",
    "* Multicollinearity\n",
    "* Enconding\n",
    "*Scaling\n",
    "* Dimension Reduction\n",
    "* Class imbalance\n",
    "* Splitting the data\n"
   ]
  },
  {
   "cell_type": "markdown",
   "id": "1e588d35",
   "metadata": {
    "id": "1e588d35"
   },
   "source": [
    "###  Multicollinearlity"
   ]
  },
  {
   "cell_type": "code",
   "execution_count": null,
   "id": "d792c3e6",
   "metadata": {
    "colab": {
     "base_uri": "https://localhost:8080/"
    },
    "id": "d792c3e6",
    "outputId": "8ca49a02-ddda-4eec-8a10-bfa695aea2f2"
   },
   "outputs": [],
   "source": [
    "## Defining a function to check highly correlated features\n",
    "def check_multicollinearity(df, threshold=0.8):\n",
    "    corr_matrix = df.select_dtypes(include=np.number).corr().abs()\n",
    "    correlated_pairs = set()\n",
    "    for col in corr_matrix:\n",
    "        correlated_cols = corr_matrix.index[corr_matrix[col] > threshold]\n",
    "        correlated_pairs.update([(min(col, correlated_col), max(col, correlated_col)) for correlated_col in correlated_cols if col != correlated_col])\n",
    "    for pair in correlated_pairs:\n",
    "        col1, col2 = pair\n",
    "        correlation_value = corr_matrix.loc[col1, col2]\n",
    "        print(f\"{col1} --- {col2} (Correlation: {correlation_value:.2f})\")\n",
    "    return set(df.columns) & set(col for pair in correlated_pairs for col in pair)\n",
    "\n",
    "# Call the function to check multicollinearity\n",
    "multicollinear_features = check_multicollinearity(df)\n"
   ]
  },
  {
   "cell_type": "markdown",
   "id": "b85e7b89",
   "metadata": {
    "id": "b85e7b89"
   },
   "source": [
    "### Dealing with Multicollinearity\n",
    " > We considered two approaches which include dropping some columns and feature engineering  to capture the relationship between correlated variables which are rather important.\n",
    "\n",
    "  >We dropped Total distance of passses made as well as Attempted passes.\n",
    "\n",
    "> We opted to created new variables 'Cmp_Poss_Ratio' which captures the relationship between complete passes and possesion and also created 'Cmp_PrgDist_Ratio' which captures the relatonship between complete passes and the progressive distance of a pass."
   ]
  },
  {
   "cell_type": "code",
   "execution_count": null,
   "id": "9e9e50bf",
   "metadata": {
    "id": "9e9e50bf"
   },
   "outputs": [],
   "source": [
    "# Feature engineering.\n",
    "\n",
    "df['Cmp_Poss_Ratio'] = df['Cmp'] / df['Poss']\n",
    "df['Cmp_PrgDist_Ratio'] = df['Cmp'] / df['PrgDist']\n"
   ]
  },
  {
   "cell_type": "code",
   "execution_count": null,
   "id": "c2bd24df",
   "metadata": {
    "id": "c2bd24df"
   },
   "outputs": [],
   "source": [
    "# Drop columns\n",
    "\n",
    "features= ['TotDist', 'Att','Poss', 'PrgDist']\n",
    "df =df.drop(features,axis=1)"
   ]
  },
  {
   "cell_type": "code",
   "execution_count": null,
   "id": "eHZXGKsv0EA0",
   "metadata": {
    "id": "eHZXGKsv0EA0"
   },
   "outputs": [],
   "source": [
    "\n",
    "# Define custom functions to create new features\n",
    "def create_cmp_poss_ratio(df):\n",
    "    return df[['Cmp', 'Poss']].assign(Cmp_Poss_Ratio=df['Cmp'] / df['Poss'])\n",
    "\n",
    "def create_cmp_prgdist_ratio(df):\n",
    "    return df[['Cmp', 'PrgDist']].assign(Cmp_PrgDist_Ratio=df['Cmp'] / df['PrgDist'])\n",
    "\n",
    "def drop_features(df):\n",
    "    return df.drop(['TotDist', 'Att', 'Poss', 'PrgDist'], axis=1)\n",
    "\n",
    "# Define a ColumnTransformer for feature engineering\n",
    "feature_engineering = ColumnTransformer(\n",
    "    transformers=[\n",
    "        ('cmp_poss_ratio', FunctionTransformer(create_cmp_poss_ratio, validate=False), ['Cmp', 'Poss']),\n",
    "        ('cmp_prgdist_ratio', FunctionTransformer(create_cmp_prgdist_ratio, validate=False), ['Cmp', 'PrgDist'])\n",
    "    ],\n",
    "    remainder='passthrough'  # Include the original columns as well\n",
    ")\n",
    "\n",
    "# Define a custom transformer for dropping features\n",
    "drop_feature_transformer = FunctionTransformer(drop_features, validate=False)\n",
    "\n",
    "# Define the rest of your pipeline (data preprocessing and modeling)\n",
    "# Example: imbalanced_pipeline = ...\n",
    "\n",
    "# Create the main pipeline that includes feature engineering and feature dropping\n",
    "main_pipeline = Pipeline([\n",
    "    ('feature_engineering', feature_engineering),\n",
    "    ('drop_features', drop_feature_transformer),  # Add feature dropping step\n",
    "    ('preprocessor', imbalanced_pipeline),  # Add your data preprocessing steps here\n",
    "    ('model', GradientBoostingRegressor())  # Replace with your model\n",
    "])\n",
    "\n",
    "# Now, you can use main_pipeline to transform your data and fit your model\n",
    "# Example: main_pipeline.fit(X_train, y_train)\n",
    "# Example: predictions = main_pipeline.predict(X_test)\n"
   ]
  },
  {
   "cell_type": "code",
   "execution_count": null,
   "id": "8bf4acb5",
   "metadata": {
    "colab": {
     "base_uri": "https://localhost:8080/"
    },
    "id": "8bf4acb5",
    "outputId": "41da9f44-511c-4ed5-f339-2ba5834797c5"
   },
   "outputs": [],
   "source": [
    "df.columns"
   ]
  },
  {
   "cell_type": "code",
   "execution_count": null,
   "id": "7f899934",
   "metadata": {
    "colab": {
     "base_uri": "https://localhost:8080/",
     "height": 1000
    },
    "id": "7f899934",
    "outputId": "e565336e-c9e9-4cb8-9571-bfca72929ebd"
   },
   "outputs": [],
   "source": [
    "# Generate a mask for the upper triangle\n",
    "mask = np.triu(np.ones_like(df.corr(), dtype=bool))\n",
    "\n",
    "# Set up the matplotlib figure\n",
    "plt.figure(figsize=(20, 18))\n",
    "# Generate a custom diverging colormap\n",
    "cmap = sns.diverging_palette(230, 20, as_cmap=True)\n",
    "\n",
    "# Draw the heatmap with the mask and correct aspect ratio\n",
    "sns.heatmap(df.corr(), mask=mask, cmap=cmap, vmax=.3, center=0,\n",
    "            square=True, linewidths=.5, cbar_kws={\"shrink\": .5}, annot=True)\n",
    "\n",
    "plt.title(\"Correlation Heatmap - Lower Diagonal\")\n",
    "plt.show()"
   ]
  },
  {
   "cell_type": "markdown",
   "id": "39256db0",
   "metadata": {
    "id": "39256db0"
   },
   "source": [
    "### Encoding\n",
    "\n",
    "> We use label encoding since it reduces the dimensionality to a single column with integers, making it more memory-efficient. We intend to use tree models and boosting models which work well with label-encoded categorical variables.  \n"
   ]
  },
  {
   "cell_type": "code",
   "execution_count": null,
   "id": "daf9c1c8",
   "metadata": {
    "id": "daf9c1c8"
   },
   "outputs": [],
   "source": [
    "\n",
    "#Map 'W', 'D', 'L' to numeric values in the 'Result' column\n",
    "result_mapping = {'W': 1, 'D': 0, 'L': 0}\n",
    "df['Result'] = df['Result'].map(result_mapping)\n"
   ]
  },
  {
   "cell_type": "code",
   "execution_count": null,
   "id": "f7d5abad",
   "metadata": {
    "id": "f7d5abad"
   },
   "outputs": [],
   "source": [
    "# Change match venue we give it codes like home=1 away = 0\n",
    "df[\"Venue\"]=df[\"Venue\"].astype(\"category\").cat.codes"
   ]
  },
  {
   "cell_type": "code",
   "execution_count": null,
   "id": "88bff463",
   "metadata": {
    "id": "88bff463"
   },
   "outputs": [],
   "source": [
    "# Mapping codes to opponent\n",
    "df[\"opp_encoded\"]=df[\"Opponent\"].astype(\"category\").cat.codes\n",
    "\n",
    "# Mapping codes to team\n",
    "df[\"team_encoded\"]=df[\"Team\"].astype(\"category\").cat.codes"
   ]
  },
  {
   "cell_type": "code",
   "execution_count": null,
   "id": "e56a29bd",
   "metadata": {
    "id": "e56a29bd"
   },
   "outputs": [],
   "source": [
    "# Changing the time to whole number.\n",
    "\n",
    "df['hour'] = df['Time'].astype(str).str.extract(r'(\\d+)').astype(int)"
   ]
  },
  {
   "cell_type": "code",
   "execution_count": null,
   "id": "43c65036",
   "metadata": {
    "id": "43c65036"
   },
   "outputs": [],
   "source": [
    "# Converting date object to datetime\n",
    "df['Date'] = pd.to_datetime(df['Date'])"
   ]
  },
  {
   "cell_type": "code",
   "execution_count": null,
   "id": "bfde4699",
   "metadata": {
    "id": "bfde4699"
   },
   "outputs": [],
   "source": [
    "# Mapping the days of the week to code\n",
    "df[\"day_encoded\"]= df[\"Date\"].dt.dayofweek"
   ]
  },
  {
   "cell_type": "code",
   "execution_count": null,
   "id": "ae2e257f",
   "metadata": {
    "id": "ae2e257f"
   },
   "outputs": [],
   "source": [
    "#Converting result column from strings to intergers\n",
    "df[\"Target\"]=(df[\"Result\"]==\"W\").astype(\"int\")"
   ]
  },
  {
   "cell_type": "code",
   "execution_count": null,
   "id": "91181216",
   "metadata": {
    "id": "91181216"
   },
   "outputs": [],
   "source": [
    "#Converting result column from strings to intergers\n",
    "df[\"formation_encoded\"]=df[\"Formation\"].astype(\"category\").cat.codes"
   ]
  },
  {
   "cell_type": "code",
   "execution_count": null,
   "id": "XgPX47CWTC9X",
   "metadata": {
    "id": "XgPX47CWTC9X"
   },
   "outputs": [],
   "source": [
    "# Creating seasons\n",
    "df['Date'] = pd.to_datetime(df['Date'])\n",
    "\n",
    "# Define a function to determine the season\n",
    "def get_season(date):\n",
    "    if date.month >= 8:\n",
    "        return date.year + 1\n",
    "    else:\n",
    "        return date.year\n",
    "\n",
    "# Apply the function to create a new 'Season' column\n",
    "df['Season'] = df['Date'].apply(get_season)\n"
   ]
  },
  {
   "cell_type": "code",
   "execution_count": null,
   "id": "7c636f88",
   "metadata": {
    "id": "7c636f88"
   },
   "outputs": [],
   "source": [
    "# Convert the 'Round' column to integer codes using label encoding\n",
    "df['Round_encoded'] = df['Round'].astype('category').cat.codes"
   ]
  },
  {
   "cell_type": "code",
   "execution_count": null,
   "id": "7768d6c0",
   "metadata": {
    "colab": {
     "base_uri": "https://localhost:8080/"
    },
    "id": "7768d6c0",
    "outputId": "1e6b1ae3-b1ed-4859-8e26-5e61ecf08b52"
   },
   "outputs": [],
   "source": [
    "df.info()"
   ]
  },
  {
   "cell_type": "code",
   "execution_count": null,
   "id": "606a7485",
   "metadata": {
    "colab": {
     "base_uri": "https://localhost:8080/"
    },
    "id": "606a7485",
    "outputId": "acc43acf-20b3-41d5-d36e-ee73959bae6f"
   },
   "outputs": [],
   "source": [
    "# droping the encoded categorical features.\n",
    "\n",
    "df.drop(columns=['Round', 'Day','Opponent', 'Formation', 'Team', 'Time', 'Date'], inplace=True)\n",
    "df.columns"
   ]
  },
  {
   "cell_type": "markdown",
   "id": "04fe0bec",
   "metadata": {
    "id": "04fe0bec"
   },
   "source": [
    "### Scaling, Dimension Reduction and Class Imbalance"
   ]
  },
  {
   "cell_type": "markdown",
   "id": "6708b7a3",
   "metadata": {
    "id": "6708b7a3"
   },
   "source": [
    "> We define a data preprocessing pipeline that scales numeric columns, applies Principal Component Analysis (PCA) to reduce dimensionality, and uses SMOTE to address class imbalance."
   ]
  },
  {
   "cell_type": "code",
   "execution_count": null,
   "id": "f6713d8c",
   "metadata": {
    "id": "f6713d8c"
   },
   "outputs": [],
   "source": [
    "# Define the numerical columns (excluding 'Formation')\n",
    "numerical_columns = ['GF', 'GA', 'Attendance', 'Sh', 'SoT', 'FK',\n",
    "                     'Dist', 'PK', 'PKatt', 'Cmp','Cmp_Poss_Ratio', 'Cmp_PrgDist_Ratio', 'hour']\n",
    "\n",
    "# Define the target column\n",
    "target_column = 'Result'\n",
    "\n",
    "# Create a column transformer for numeric variables\n",
    "preprocessor_numeric = ColumnTransformer(\n",
    "    transformers=[\n",
    "        ('num', StandardScaler(), numerical_columns),\n",
    "    ]\n",
    ")\n",
    "\n",
    "# Create a PCA transformer for numeric variables.\n",
    "# Specify the number of principal components\n",
    "pca = PCA(n_components=5)\n",
    "\n",
    "\n",
    "# PCA does not distinguish between real and synthetic samples.\n",
    "imbalanced_pipeline = imbalanced_Pipeline([\n",
    "    ('preprocessor_numeric', preprocessor_numeric),\n",
    "    ('pca', pca),\n",
    "    ('smote', SMOTE()),  # You might want to adjust SMOTE parameters\n",
    "])"
   ]
  },
  {
   "cell_type": "markdown",
   "id": "5a64a9af",
   "metadata": {
    "id": "5a64a9af"
   },
   "source": [
    "### Splitting the data\n",
    "\n",
    ">Given that our data is Time series data, we chose to split the trainig and testing set based on the football seasons.We  have seven seasons running from 2018 to 2024. Considering the 80:20 approach, five seasons go into the training data set and two season go to the test data set.\n",
    "\n",
    "> We further split the training data set to get a validation dataset."
   ]
  },
  {
   "cell_type": "code",
   "execution_count": null,
   "id": "97bab90c",
   "metadata": {
    "colab": {
     "base_uri": "https://localhost:8080/"
    },
    "id": "97bab90c",
    "outputId": "38a75959-c3d6-4c63-ef87-ea6d502c6b09"
   },
   "outputs": [],
   "source": [
    "df['Season'].unique()"
   ]
  },
  {
   "cell_type": "code",
   "execution_count": null,
   "id": "8e_GY8BB8Rdu",
   "metadata": {
    "id": "8e_GY8BB8Rdu"
   },
   "outputs": [],
   "source": [
    "# set a fixed random seed for reporducibility\n",
    "random.seed(42)\n",
    "np.random.seed(42)"
   ]
  },
  {
   "cell_type": "code",
   "execution_count": null,
   "id": "a6ab2aeb",
   "metadata": {
    "colab": {
     "base_uri": "https://localhost:8080/"
    },
    "id": "a6ab2aeb",
    "outputId": "0db6ee4f-7757-4e57-913d-07d90431d41c"
   },
   "outputs": [],
   "source": [
    "# Let's split our train, validation and test datasets\n",
    "\n",
    "#Assuming you have a column named \"Season\" in your DataFrame\n",
    "train_data = df[df['Season'] <= 2022]\n",
    "test_data = df[df['Season'] > 2022]\n",
    "\n",
    "#Further split the training data into training and validation sets\n",
    "train_data, val_data = train_test_split(train_data, test_size=0.2, random_state=42)\n",
    "\n",
    "#Separate features (X) and target variable (y) for training, validation, and test sets\n",
    "X_train = train_data.drop(\"Result\", axis=1)  # Assuming \"Result\" is the target variable\n",
    "y_train = train_data[\"Result\"]\n",
    "\n",
    "X_val = val_data.drop(\"Result\", axis=1)\n",
    "y_val = val_data[\"Result\"]\n",
    "\n",
    "X_test = test_data.drop(\"Result\", axis=1)\n",
    "y_test = test_data[\"Result\"]\n",
    "\n",
    "# Verify the shapes of the sets\n",
    "print(\"Train set shape:\", X_train.shape, y_train.shape)\n",
    "print(\"Validation set shape:\", X_val.shape, y_val.shape)\n",
    "print(\"Test set shape:\", X_test.shape, y_test.shape)\n"
   ]
  },
  {
   "cell_type": "markdown",
   "id": "0197a4e0",
   "metadata": {
    "id": "0197a4e0"
   },
   "source": [
    "### Class Imbalance\n",
    "\n",
    "> NB: Win is encoded as 1, loss or draw is encoded as 0."
   ]
  },
  {
   "cell_type": "code",
   "execution_count": null,
   "id": "570d9e94",
   "metadata": {
    "colab": {
     "base_uri": "https://localhost:8080/"
    },
    "id": "570d9e94",
    "outputId": "417713c6-58f3-4e47-d43a-d8e75b6ad3b2"
   },
   "outputs": [],
   "source": [
    "df.Result.value_counts(normalize=True)*100"
   ]
  },
  {
   "cell_type": "markdown",
   "id": "e6e1f230",
   "metadata": {
    "id": "e6e1f230"
   },
   "source": [
    "> Approximately 38.65% are wins and 61.34% are draws and losses. This class imbalance is handled using SMOTE in the pipeline."
   ]
  },
  {
   "cell_type": "code",
   "execution_count": null,
   "id": "3683d124",
   "metadata": {
    "id": "3683d124"
   },
   "outputs": [],
   "source": [
    "# Applying the pipeline\n",
    "\n",
    "X_train_resampled, y_train_resampled = imbalanced_pipeline.fit_resample(X_train, y_train)"
   ]
  },
  {
   "cell_type": "code",
   "execution_count": null,
   "id": "308e1eb9",
   "metadata": {
    "id": "308e1eb9"
   },
   "outputs": [],
   "source": [
    "X_val_resampled, y_val_resampled,  = imbalanced_pipeline.fit_resample(X_val, y_val)"
   ]
  },
  {
   "cell_type": "code",
   "execution_count": null,
   "id": "9613d853",
   "metadata": {
    "id": "9613d853"
   },
   "outputs": [],
   "source": [
    "X_test_resampled, y_test_resampled = imbalanced_pipeline.fit_resample(X_test, y_test)"
   ]
  },
  {
   "cell_type": "markdown",
   "id": "f7775288",
   "metadata": {
    "id": "f7775288"
   },
   "source": [
    "## **Modelling**"
   ]
  },
  {
   "cell_type": "markdown",
   "id": "b685b89a",
   "metadata": {
    "id": "b685b89a"
   },
   "source": [
    "#### Metric\n",
    "\n",
    "Our primary metric will be precision, which can be especially important in applications like sports betting or fantasy sports, where users make decisions and investments based on predictions.Precision calculates the proportion of true positive predictions (correctly predicted match outcomes) out of all positive predictions (all matches predicted as wins).\n",
    "\n",
    "This is used along side other metrics such as accuracy, recall, ROC AUC score and plots such as confusion matrix, ROC AUC curve.\n",
    "\n"
   ]
  },
  {
   "cell_type": "markdown",
   "id": "8f327629",
   "metadata": {
    "id": "8f327629"
   },
   "source": [
    "#### Model Validation\n",
    "\n",
    "> We developed a function called 'train_validate_model' to train and validate our model for review before we can present the test data to the model."
   ]
  },
  {
   "cell_type": "code",
   "execution_count": null,
   "id": "2af27ca8",
   "metadata": {
    "id": "2af27ca8"
   },
   "outputs": [],
   "source": [
    "def train_validate_model(model, X_train_resampled, y_train_resampled, X_val_resampled, y_val_resampled, random_state=42):\n",
    "    # Fit the model on the training data\n",
    "    model.fit(X_train_resampled, y_train_resampled)\n",
    "\n",
    "    # Predict on the training data\n",
    "    y_train_pred = model.predict(X_train_resampled)\n",
    "\n",
    "    # Predict on the validation data\n",
    "    y_validate_pred = model.predict(X_val_resampled)\n",
    "\n",
    "    # Calculate accuracy\n",
    "    train_accuracy = accuracy_score(y_train_resampled, y_train_pred)\n",
    "    validate_accuracy = accuracy_score(y_val_resampled, y_validate_pred)\n",
    "\n",
    "    # Calculate precision\n",
    "    train_precision = precision_score(y_train_resampled, y_train_pred, average='macro')\n",
    "    validate_precision = precision_score(y_val_resampled, y_validate_pred, average='macro')\n",
    "\n",
    "    # Calculate recall with macro average\n",
    "    train_recall = recall_score(y_train_resampled, y_train_pred, average='macro')\n",
    "    validate_recall = recall_score(y_val_resampled, y_validate_pred, average='macro')\n",
    "\n",
    "\n",
    "    # Calculate F1-score\n",
    "    train_f1 = f1_score(y_train_resampled, y_train_pred, average='macro')\n",
    "    validate_f1 = f1_score(y_val_resampled, y_validate_pred, average='macro')\n",
    "\n",
    "    # Print evaluation metrics\n",
    "    print(\"Training Data - Accuracy: {:.4f}, Precision: {:.4f}, Recall: {:.4f}, F1-score: {:.4f}\".format(\n",
    "        train_accuracy, train_precision, train_recall, train_f1\n",
    "    ))\n",
    "    print(\"Validation Data - Accuracy: {:.4f}, Precision: {:.4f}, Recall: {:.4f}, F1-score: {:.4f}\".format(\n",
    "        validate_accuracy, validate_precision, validate_recall, validate_f1\n",
    "    ))\n"
   ]
  },
  {
   "cell_type": "markdown",
   "id": "cdf9ed4c",
   "metadata": {
    "id": "cdf9ed4c"
   },
   "source": [
    "#### Model Testing\n",
    "\n",
    "> We build a function called 'test_model' to test our model after trianing the data and reveiwing the outcome on validation."
   ]
  },
  {
   "cell_type": "code",
   "execution_count": null,
   "id": "a1b5563e",
   "metadata": {
    "id": "a1b5563e"
   },
   "outputs": [],
   "source": [
    "def test_model(model, X_test, y_test, random_state=42):\n",
    "    # Predict on the test data\n",
    "    y_test_pred = model.predict(X_test)\n",
    "    #y_test_prob = model.predict_proba(X_test)[:, 1]\n",
    "    y_test_prob = model.predict_proba(X_test)\n",
    "\n",
    "    # Calculate evaluation metrics for the test data\n",
    "    test_accuracy = accuracy_score(y_test, y_test_pred)\n",
    "\n",
    "    test_precision = precision_score(y_test, y_test_pred, average='macro')\n",
    "\n",
    "    test_recall = recall_score(y_test, y_test_pred, average='macro')\n",
    "\n",
    "    test_f1 = f1_score(y_test, y_test_pred, average='macro')\n",
    "\n",
    "\n",
    "     # Calculate ROC AUC for binary classification\n",
    "    test_roc_auc = roc_auc_score(y_test_resampled, y_test_prob[:, 1])\n",
    "\n",
    "    # Create a dictionary of evaluation metrics\n",
    "    evaluation_metrics = {\n",
    "        'Accuracy': test_accuracy,\n",
    "        'Precision': test_precision,\n",
    "        'Recall': test_recall,\n",
    "        'F1-score': test_f1,\n",
    "        'ROC AUC Score': test_roc_auc\n",
    "    }\n",
    "\n",
    "    cm = confusion_matrix(y_test, y_test_pred, labels=model.classes_)\n",
    "    disp = ConfusionMatrixDisplay(confusion_matrix=cm,\n",
    "                             display_labels=model.classes_)\n",
    "    disp.plot()\n",
    "    plt.show()\n",
    "\n",
    "    # Return the evaluation metrics\n",
    "    return evaluation_metrics"
   ]
  },
  {
   "cell_type": "markdown",
   "id": "30a9c4e6",
   "metadata": {
    "id": "30a9c4e6"
   },
   "source": [
    "#### Model Tuning.\n",
    "\n",
    "> We build a function for tuning the hyper paramters. We perform hyperparameter tuning using GridSearchCV and print the best hyperparameters, best score, and best estimator.\n",
    "    \n",
    "Argument:\n",
    "* X_train: The feature matrix of the training data.\n",
    "* y_train: The target variable of the training data.\n",
    "* model: The machine learning model to be tuned.\n",
    "* param_grid: A dictionary of hyperparameter values to search.\n",
    "* scoring: The scoring metric used for optimization (default is 'accuracy').\n",
    "* cv: Number of cross-validation folds (default is 5).\n",
    "    \n",
    " >Returns:\n",
    "    * best_model: The best model with tuned hyperparameters."
   ]
  },
  {
   "cell_type": "code",
   "execution_count": null,
   "id": "52c714b4",
   "metadata": {
    "id": "52c714b4"
   },
   "outputs": [],
   "source": [
    "def tune_model(X_train_resampled, y_train_resampled, X_test_resampled,\n",
    "               y_test_resampled, model, param_grid, scoring='precision', cv=5, random_state=42):\n",
    "    # Hyperparameter tuning using GridSearchCV if param_grid is provided\n",
    "\n",
    "    grid_search = GridSearchCV(model, param_grid, scoring=scoring, cv=cv, verbose=1, n_jobs=-1)\n",
    "    grid_search.fit(X_train_resampled, y_train_resampled)\n",
    "    model = grid_search.best_estimator_\n",
    "    print(\"Best Hyperparameters:\", grid_search.best_params_)\n",
    "    print(\"Best Score:\", grid_search.best_score_)\n",
    "\n",
    "    # Train the model on the training data\n",
    "    model.fit(X_train_resampled, y_train_resampled)\n",
    "\n",
    "    # Predict on the test data\n",
    "    y_test_pred = model.predict(X_test_resampled)\n",
    "    y_test_prob = model.predict_proba(X_test_resampled)\n",
    "\n",
    "    # Calculate evaluation metrics for the test data\n",
    "    test_accuracy = accuracy_score(y_test_resampled, y_test_pred)\n",
    "    test_precision = precision_score(y_test_resampled, y_test_pred, average='macro')\n",
    "    test_recall = recall_score(y_test_resampled, y_test_pred, average='macro')\n",
    "    test_f1 = f1_score(y_test_resampled, y_test_pred, average='macro')\n",
    "\n",
    "    # Calculate ROC AUC.\n",
    "    test_roc_auc = roc_auc_score(y_test_resampled, y_test_prob[:, 1])\n",
    "\n",
    "    # Create a dictionary of evaluation metrics\n",
    "    evaluation_metrics = {\n",
    "        'Accuracy': test_accuracy,\n",
    "        'Precision': test_precision,\n",
    "        'Recall': test_recall,\n",
    "        'F1-score': test_f1,\n",
    "        'ROC AUC Score': test_roc_auc\n",
    "    }\n",
    "\n",
    "    cm = confusion_matrix(y_test_resampled, y_test_pred, labels=model.classes_)\n",
    "    disp = ConfusionMatrixDisplay(confusion_matrix=cm,\n",
    "                             display_labels=model.classes_)\n",
    "    disp.plot()\n",
    "    plt.show()\n",
    "\n",
    "    # Return the evaluation metrics and the trained model\n",
    "    return evaluation_metrics, model\n"
   ]
  },
  {
   "cell_type": "markdown",
   "id": "b2afb20b",
   "metadata": {
    "id": "b2afb20b"
   },
   "source": [
    "\n",
    "###  Base Model : Logisitic regression model\n",
    "\n",
    "> A logisitic regression model has great ability in predicting binary outcomes , win or no win. It however assumes a linear relationship between the log-odds of the target and predictor variables. Match outcomes have a number of non-linear relationships and it is for this reason we use the logistic regression model as the base model as we build on more complex models like tree models, boosting models and neural networks that can pick on these complexities."
   ]
  },
  {
   "cell_type": "code",
   "execution_count": null,
   "id": "14a4c16c",
   "metadata": {
    "colab": {
     "base_uri": "https://localhost:8080/"
    },
    "id": "14a4c16c",
    "outputId": "280bdce6-7a6b-490d-c554-2ea4f998d427"
   },
   "outputs": [],
   "source": [
    "# Instantiate the classifier\n",
    "logreg = LogisticRegression(random_state=42)\n",
    "\n",
    "# Call the train and validate function with the classifier\n",
    "train_validate_model(logreg, X_train_resampled, y_train_resampled, X_val_resampled, y_val_resampled)"
   ]
  },
  {
   "cell_type": "markdown",
   "id": "25b52c68",
   "metadata": {
    "id": "25b52c68"
   },
   "source": [
    "#### Testing the logisitic model."
   ]
  },
  {
   "cell_type": "code",
   "execution_count": null,
   "id": "8c6c0bff",
   "metadata": {
    "colab": {
     "base_uri": "https://localhost:8080/",
     "height": 536
    },
    "id": "8c6c0bff",
    "outputId": "296aa887-3927-4f1e-b6b0-cd4dd3a9be86"
   },
   "outputs": [],
   "source": [
    "test_model(logreg, X_test_resampled, y_test_resampled)"
   ]
  },
  {
   "cell_type": "markdown",
   "id": "ed050d24",
   "metadata": {
    "id": "ed050d24"
   },
   "source": [
    "### Tuning Logisitic Regression."
   ]
  },
  {
   "cell_type": "code",
   "execution_count": null,
   "id": "4a5467a3",
   "metadata": {
    "colab": {
     "base_uri": "https://localhost:8080/",
     "height": 605
    },
    "id": "4a5467a3",
    "outputId": "5d7002e6-182f-438b-fe96-b29d9d7645d2"
   },
   "outputs": [],
   "source": [
    "param_grid = {\n",
    "    'C': [0.001, 0.01, 0.1],\n",
    "    'penalty': ['l1', 'l2'],\n",
    "    'solver': ['liblinear', 'saga']\n",
    "}\n",
    "\n",
    "tune_model(X_train_resampled, y_train_resampled, X_test_resampled,\n",
    "           y_test_resampled, logreg, param_grid, scoring='precision', cv=5)"
   ]
  },
  {
   "cell_type": "markdown",
   "id": "-GTOa93BqjXn",
   "metadata": {
    "id": "-GTOa93BqjXn"
   },
   "source": [
    "> Logistic Regression: The model achieved an accuracy of 57.91% on the test data. It demonstrated a precision of 58.17%, indicating that around 58.17% of the instances predicted as positive were actually true positives. The recall score of 57.91% suggests that the model identified approximately 57.91% of the actual positive instances. The F1-score of 0.5757 indicates a moderate balance between precision and recall."
   ]
  },
  {
   "cell_type": "markdown",
   "id": "e568f1d3",
   "metadata": {
    "id": "e568f1d3"
   },
   "source": [
    "## Neural Networks"
   ]
  },
  {
   "cell_type": "code",
   "execution_count": null,
   "id": "d428abf8",
   "metadata": {
    "colab": {
     "base_uri": "https://localhost:8080/"
    },
    "id": "d428abf8",
    "outputId": "541649b6-4a35-47b0-c90d-1706cba1e0fb"
   },
   "outputs": [],
   "source": [
    "# Create an instance of MLPClassifier\n",
    "mlp = MLPClassifier(random_state=42)\n",
    "\n",
    "# Call the function with the neural network classifier\n",
    "train_validate_model(mlp, X_train_resampled, y_train_resampled,  X_val_resampled, y_val_resampled)"
   ]
  },
  {
   "cell_type": "code",
   "execution_count": null,
   "id": "7855cc46",
   "metadata": {
    "colab": {
     "base_uri": "https://localhost:8080/",
     "height": 536
    },
    "id": "7855cc46",
    "outputId": "2137e9ca-4683-44bf-8023-172d20778caf"
   },
   "outputs": [],
   "source": [
    "# Testin the Neural Nteworks models.\n",
    "test_model(mlp, X_test_resampled, y_test_resampled)"
   ]
  },
  {
   "cell_type": "markdown",
   "id": "591c00f1",
   "metadata": {
    "id": "591c00f1"
   },
   "source": [
    "#### Hyper parameter tuning"
   ]
  },
  {
   "cell_type": "code",
   "execution_count": null,
   "id": "6e2cb0aa",
   "metadata": {
    "colab": {
     "base_uri": "https://localhost:8080/",
     "height": 605
    },
    "id": "6e2cb0aa",
    "outputId": "a37469e7-e8e6-48a7-cda4-b2ab9db9d0c9"
   },
   "outputs": [],
   "source": [
    "param_grid = {\n",
    "    'hidden_layer_sizes': [(50,), (100,), (50, 50)],\n",
    "    'activation': ['relu', 'tanh'],\n",
    "    'alpha': [0.0001, 0.001, 0.01],\n",
    "}\n",
    "\n",
    "# Call the function with the neural network classifier and parameter grid\n",
    "tune_model(X_train_resampled, y_train_resampled,X_test_resampled, y_test_resampled, mlp, param_grid, scoring='precision', cv=5)"
   ]
  },
  {
   "cell_type": "markdown",
   "id": "96DRvLRirJAh",
   "metadata": {
    "id": "96DRvLRirJAh"
   },
   "source": [
    "> Neural Network: The model achieved an accuracy (69.18%) and precision (71.29%), indicating accurate predictions and high true positive rates. However, the model had a lower recall of 69.18%, suggesting it missed a significant portion of positive instances. The F1-score of 0.6840 represents a reasonable balance between precision and recall on the test data."
   ]
  },
  {
   "cell_type": "markdown",
   "id": "azuYYOgWp3Sk",
   "metadata": {
    "id": "azuYYOgWp3Sk"
   },
   "source": [
    "### Gradient Boost Model"
   ]
  },
  {
   "cell_type": "code",
   "execution_count": null,
   "id": "f2f761b8",
   "metadata": {
    "colab": {
     "base_uri": "https://localhost:8080/"
    },
    "id": "f2f761b8",
    "outputId": "6599ef06-6198-48fe-d855-3f3e55d3aa9c"
   },
   "outputs": [],
   "source": [
    "gb_classifier = GradientBoostingClassifier(random_state= 42)\n",
    "\n",
    "# Train and validate the classifier on the preprocessed training data.\n",
    "train_validate_model(gb_classifier, X_train_resampled, y_train_resampled, X_val_resampled, y_val_resampled)"
   ]
  },
  {
   "cell_type": "code",
   "execution_count": null,
   "id": "75bxUnu5mzUv",
   "metadata": {
    "colab": {
     "base_uri": "https://localhost:8080/",
     "height": 536
    },
    "id": "75bxUnu5mzUv",
    "outputId": "1f274ff1-45ca-4dfb-b7e8-12b2a33cd35f"
   },
   "outputs": [],
   "source": [
    "#Testing the gradient boost Model.\n",
    "test_model(gb_classifier , X_test_resampled, y_test_resampled)"
   ]
  },
  {
   "cell_type": "markdown",
   "id": "FRWc4M0Jp8zu",
   "metadata": {
    "id": "FRWc4M0Jp8zu"
   },
   "source": [
    "**Tuning Gradient Boost Model**"
   ]
  },
  {
   "cell_type": "code",
   "execution_count": null,
   "id": "mpbEpp0_m5hG",
   "metadata": {
    "colab": {
     "base_uri": "https://localhost:8080/",
     "height": 643
    },
    "id": "mpbEpp0_m5hG",
    "outputId": "f67ae6de-8cbf-4f5b-d840-168e7fc67070"
   },
   "outputs": [],
   "source": [
    "param_grid = {\n",
    "    'n_estimators': [100, 200 ],            # Number of boosting stages (trees)\n",
    "    'learning_rate': [0.01, 0.1 ],         # Step size shrinkage used to prevent overfitting\n",
    "    'max_depth': [3, 4 ],                   # Maximum depth of individual trees\n",
    "    'min_samples_split': [2, 3],           # Minimum samples required to split an internal node\n",
    "    'min_samples_leaf': [1, 2],            # Minimum samples required to be in a leaf node\n",
    "    'subsample': [0.8, 0.9],             # Fraction of samples used for fitting the trees\n",
    "    'random_state': [42]\n",
    "}\n",
    "\n",
    "tune_model(X_train_resampled, y_train_resampled, X_test_resampled, y_test_resampled, gb_classifier, param_grid, scoring='precision', cv=5)"
   ]
  },
  {
   "cell_type": "markdown",
   "id": "GYQ25SfOr6OY",
   "metadata": {
    "id": "GYQ25SfOr6OY"
   },
   "source": [
    "> Gradient Boosting: The model achived an accuracy of 71.64% and precision of 73.33%, suggesting accurate predictions and a high proportion of true positives. The recall score of 71.64% indicates that the model successfully captured around 71.64% of the actual positive instances. The F1-score of 0.7111 represents a good balance between precision."
   ]
  },
  {
   "cell_type": "markdown",
   "id": "Wkczre_xytX0",
   "metadata": {
    "id": "Wkczre_xytX0"
   },
   "source": [
    "## **Model Selection**\n",
    "\n",
    "#### Metrics visulaization"
   ]
  },
  {
   "cell_type": "code",
   "execution_count": null,
   "id": "pFsqMd7784E1",
   "metadata": {
    "id": "pFsqMd7784E1"
   },
   "outputs": [],
   "source": [
    "def evaluate_and_visualize_models(scores):\n",
    "    # Initialize dictionaries to store the evaluation metrics\n",
    "    accuracy_scores = {}\n",
    "    precision_scores = {}\n",
    "    recall_scores = {}\n",
    "    f1_scores = {}\n",
    "\n",
    "    for model_name, metrics in scores.items():\n",
    "        # Extract the metrics\n",
    "        accuracy_scores[model_name] = metrics['Accuracy']\n",
    "        precision_scores[model_name] = metrics['Precision']\n",
    "        recall_scores[model_name] = metrics['Recall']\n",
    "        f1_scores[model_name] = metrics['F1-score']\n",
    "\n",
    "    # Create a figure with subplots\n",
    "    fig, axs = plt.subplots(2, 2, figsize=(12, 8))\n",
    "\n",
    "    # Rotate x-axis labels for all subplots\n",
    "    for ax in axs.flat:\n",
    "        plt.sca(ax)\n",
    "        plt.xticks(rotation= 50)\n",
    "\n",
    "    # Visualize the evaluation metrics using bar plots\n",
    "    def add_labels(ax):\n",
    "        for rect in ax.patches:\n",
    "            height = rect.get_height()\n",
    "            ax.annotate(f'{height:.2f}', xy=(rect.get_x() + rect.get_width() / 2, height), xytext=(0, 3),\n",
    "                        textcoords=\"offset points\", ha='center', va='bottom')\n",
    "\n",
    "    # Accuracy Scores\n",
    "    axs[0, 0].bar(accuracy_scores.keys(), accuracy_scores.values())\n",
    "    axs[0, 0].set_ylim(0, 1.0)\n",
    "    axs[0, 0].set_title(\"Accuracy Scores\")\n",
    "    axs[0, 0].set_ylabel(\"Accuracy\")\n",
    "    add_labels(axs[0, 0])\n",
    "\n",
    "    # Precision Scores\n",
    "    axs[0, 1].bar(precision_scores.keys(), precision_scores.values())\n",
    "    axs[0, 1].set_ylim(0, 1.0)\n",
    "    axs[0, 1].set_title(\"Precision Scores\")\n",
    "    axs[0, 1].set_ylabel(\"Precision\")\n",
    "    add_labels(axs[0, 1])\n",
    "\n",
    "    # Recall Scores\n",
    "    axs[1, 0].bar(recall_scores.keys(), recall_scores.values())\n",
    "    axs[1, 0].set_ylim(0, 1.0)\n",
    "    axs[1, 0].set_title(\"Recall Scores\")\n",
    "    axs[1, 0].set_xlabel(\"Model\")\n",
    "    axs[1, 0].set_ylabel(\"Recall\")\n",
    "    add_labels(axs[1, 0])\n",
    "\n",
    "    # F1-scores\n",
    "    axs[1, 1].bar(f1_scores.keys(), f1_scores.values())\n",
    "    axs[1, 1].set_ylim(0, 1.0)\n",
    "    axs[1, 1].set_title(\"F1-scores\")\n",
    "    axs[1, 1].set_xlabel(\"Model\")\n",
    "    axs[1, 1].set_ylabel(\"F1-score\")\n",
    "    add_labels(axs[1, 1])\n",
    "\n",
    "    # Adjust layout\n",
    "    plt.tight_layout()\n",
    "\n",
    "    # Show the plot\n",
    "    plt.show()\n"
   ]
  },
  {
   "cell_type": "code",
   "execution_count": null,
   "id": "b0V7q64hDSqN",
   "metadata": {
    "colab": {
     "base_uri": "https://localhost:8080/",
     "height": 787
    },
    "id": "b0V7q64hDSqN",
    "outputId": "3edcaaec-d390-484f-9ded-6b1e5b4a3262"
   },
   "outputs": [],
   "source": [
    "# Define the evaluation scores\n",
    "scores = {\n",
    "    'Logistic Regression': {\n",
    "        'Accuracy': 0.5790909090909091,\n",
    "        'Precision': 0.5817392611522417,\n",
    "        'Recall': 0.5790909090909091,\n",
    "        'F1-score': 0.5756537040940711,\n",
    "        'ROC AUC Score': 0.5884694214876033\n",
    "    },\n",
    "    'Gradient Boosting': {\n",
    "        'Accuracy': 0.7163636363636363,\n",
    "        'Precision': 0.7332535032573522,\n",
    "        'Recall': 0.7163636363636363,\n",
    "        'F1-score': 0.7111344537815125,\n",
    "        'ROC AUC Score': 0.8394082644628099\n",
    "    },\n",
    "    'Neural networks': {\n",
    "        'Accuracy': 0.6918181818181818,\n",
    "        'Precision': 0.7128803137531139,\n",
    "        'Recall': 0.6918181818181819,\n",
    "        'F1-score': 0.6840020642825728,\n",
    "        'ROC AUC Score': 0.8263438016528927\n",
    "    }\n",
    "}\n",
    "\n",
    "evaluate_and_visualize_models(scores)"
   ]
  },
  {
   "cell_type": "markdown",
   "id": "iR3T5sxkScwu",
   "metadata": {
    "id": "iR3T5sxkScwu"
   },
   "source": [
    "### Plotting ROC AUC curve"
   ]
  },
  {
   "cell_type": "code",
   "execution_count": null,
   "id": "zq8sMz9OFoYJ",
   "metadata": {
    "colab": {
     "base_uri": "https://localhost:8080/",
     "height": 718
    },
    "id": "zq8sMz9OFoYJ",
    "outputId": "a7bdb18c-d910-47db-b865-97832c2f4784"
   },
   "outputs": [],
   "source": [
    "models = {\n",
    "    \"Logistic Regression\": logreg,\n",
    "    \"Neural Networks\": mlp,\n",
    "    \"Gradient Boosting\": gb_classifier\n",
    "}\n",
    "\n",
    "# Create a new figure for the ROC curves\n",
    "plt.figure(figsize=(10, 8))\n",
    "\n",
    "# Create ROC curves for each model\n",
    "for model_name, model in models.items():\n",
    "    y_prob = model.predict_proba(X_test_resampled)[:, 1]  # Get the predicted probabilities for the positive class\n",
    "\n",
    "    fpr, tpr, _ = roc_curve(y_test_resampled, y_prob)\n",
    "    roc_auc = auc(fpr, tpr)\n",
    "    plt.plot(fpr, tpr, label=f\"{model_name} (AUC = {roc_auc:.2f})\")\n",
    "\n",
    "# Plot the diagonal line, which represents a random classifier\n",
    "plt.plot([0, 1], [0, 1], color='grey', lw=2, linestyle='--')\n",
    "\n",
    "# Set labels and title\n",
    "plt.xlabel('False Positive Rate')\n",
    "plt.ylabel('True Positive Rate')\n",
    "plt.title('ROC Curves')\n",
    "\n",
    "# Show the legend\n",
    "plt.legend(loc='lower right')\n",
    "\n",
    "# Display the plot\n",
    "plt.show()\n"
   ]
  },
  {
   "cell_type": "markdown",
   "id": "RoF0-7aCSCXv",
   "metadata": {
    "id": "RoF0-7aCSCXv"
   },
   "source": [
    "> **Logistic Regression** (AUC: 0.58):\n",
    "An AUC score of 0.58 suggests that the logistic regression model's ability to distinguish between the outcomes (e.g., win or lose) of football matches is slightly better than random chance.\n",
    "It means the model provides some information, but its predictive power is limited. The model might struggle to capture the complexity of football match outcomes with the features used.\n",
    "\n",
    "> **Random Forest** (AUC: 0.76):\n",
    "An AUC score of 0.76 is a decent performance. The random forest model shows a relatively good ability to distinguish between match outcomes.\n",
    "It indicates that the model has learned patterns and relationships in the data and can make better predictions than logistic regression, although there is still room for improvement.\n",
    "\n",
    "> **Neural Networks** (AUC: 0.81):\n",
    "The neural network model also demonstrates strong performance with an AUC score of 0.81.\n",
    "It's on par with the XGBoost and gradient boosting models, indicating that it can effectively capture complex patterns in the data to make predictions.\n",
    "\n",
    "> **XGBoost and Gradient Boosting** (AUC: 0.82):\n",
    "AUC scores of 0.82 for both XGBoost and gradient boosting models indicate that they are quite effective at distinguishing between different football match outcomes.\n",
    "These models have learned strong patterns and relationships in the data, and they outperform logistic regression and random forest in terms of predictive power.\n"
   ]
  },
  {
   "cell_type": "markdown",
   "id": "zP0KB5aJde1s",
   "metadata": {
    "id": "zP0KB5aJde1s"
   },
   "source": [
    "## Plotting AUC-PR curve"
   ]
  },
  {
   "cell_type": "code",
   "execution_count": null,
   "id": "g3MTgSRMYuzQ",
   "metadata": {
    "colab": {
     "base_uri": "https://localhost:8080/",
     "height": 581
    },
    "id": "g3MTgSRMYuzQ",
    "outputId": "f638e2a5-2b95-4a01-cbee-903a01d65719"
   },
   "outputs": [],
   "source": [
    "def calculate_predicted_probabilities(model, X):\n",
    "    # Assuming you have a trained model and a feature matrix X\n",
    "    y_prob = model.predict_proba(X)\n",
    "    return y_prob\n",
    "\n",
    "def calculate_precision_recall(y_true, y_prob, threshold=0.5):\n",
    "    y_pred = (y_prob >= threshold).astype(int)\n",
    "    precision, recall, _ = precision_recall_curve(y_true, y_prob)\n",
    "    return precision, recall\n",
    "\n",
    "\n",
    "calculate_predicted_probabilities(gb_classifier, X_test_resampled)\n",
    "calculate_precision_recall(y_test_resampled, y_prob, threshold=0.5)\n",
    "\n",
    "precision, recall, _ = precision_recall_curve(y_test_resampled, y_prob)\n",
    "\n",
    "# Calculate AUC-PR\n",
    "auc_pr = auc(recall, precision)\n",
    "\n",
    "# Plot the Precision-Recall curve\n",
    "plt.figure(figsize=(8, 6))\n",
    "plt.step(recall, precision, where='post')\n",
    "plt.xlabel('Recall')\n",
    "plt.ylabel('Precision')\n",
    "plt.title(f'Precision-Recall Curve (AUC-PR = {auc_pr:.2f})')\n",
    "plt.ylim([0.0, 1.05])\n",
    "plt.xlim([0.0, 1.0])\n",
    "plt.show()\n",
    "\n",
    "print(f'AUC-PR: {auc_pr:.2f}')"
   ]
  },
  {
   "cell_type": "markdown",
   "id": "GrPd64pRc-Uu",
   "metadata": {
    "id": "GrPd64pRc-Uu"
   },
   "source": [
    "> The gradient boost model achieves a AUC-PR: 0.80 which indicates a good balance between precision and recall. It means that the model can make accurate positive predictions (high precision) while capturing a significant portion of the actual positive instances (high recall)."
   ]
  },
  {
   "cell_type": "markdown",
   "id": "LFLigFvMTuG2",
   "metadata": {
    "id": "LFLigFvMTuG2"
   },
   "source": [
    "### **Model selection Decision**\n",
    "The Gradient Boosting model outperforms others because it achieves a high level of accuracy, precision, and recall, as well as a good balance between precision and recall (as indicated by the F1-score). Moreover, its AUC score of 0.839 shows that it excels in distinguishing between different match outcomes, making it the best choice for predicting football match outcomes in your context.\n",
    "\n",
    "Given that it had the highest precision,of 0.73 indicating a relatively low rate of false positive predictions. We choose the gradient boost model.\n",
    "\n",
    "\n",
    "\n",
    "\n",
    "\n",
    "\n"
   ]
  },
  {
   "cell_type": "markdown",
   "id": "bGgAzH45_RPy",
   "metadata": {
    "id": "bGgAzH45_RPy"
   },
   "source": [
    "#### Feature Selection from the Gradient Boost Model"
   ]
  },
  {
   "cell_type": "code",
   "execution_count": null,
   "id": "2SIjmqgn_WLk",
   "metadata": {
    "colab": {
     "base_uri": "https://localhost:8080/",
     "height": 607
    },
    "id": "2SIjmqgn_WLk",
    "outputId": "d06a8546-5e94-4d0c-964d-8e4714c1ed43"
   },
   "outputs": [],
   "source": [
    "def plot_feature_importance(best_clf, feature_names, threshold= None):\n",
    "    # Filter the features based on the importance threshold\n",
    "    important_features = [feature for feature, importance in zip(feature_names, best_clf.feature_importances_) if importance > threshold]\n",
    "\n",
    "    # Create a subset of feature importances for the important features\n",
    "    importances_subset = [importance for importance in best_clf.feature_importances_ if importance > threshold]\n",
    "\n",
    "    plt.figure(figsize=(8, 6))\n",
    "    plt.barh(range(len(important_features)), importances_subset)\n",
    "    plt.yticks(range(len(important_features)), important_features, fontsize= 10)\n",
    "    plt.xlabel('Feature Importance', fontsize= 8)\n",
    "    plt.ylabel('Feature', fontsize= 8)\n",
    "    plt.title('Feature Importance Plot', fontsize= 12)\n",
    "    plt.tight_layout()\n",
    "    plt.show()\n",
    "\n",
    "feature_names= X_train.columns\n",
    "plot_feature_importance(gb_classifier, feature_names, threshold= 0.001)"
   ]
  },
  {
   "cell_type": "markdown",
   "id": "AYBm1D0PuD6M",
   "metadata": {
    "id": "AYBm1D0PuD6M"
   },
   "source": [
    "The most important features from our model are Venue, Goals a team scored, Goals scored aganist the team, the number of shots made and the attendance of the match."
   ]
  },
  {
   "cell_type": "markdown",
   "id": "Wb7M-Izdooq2",
   "metadata": {
    "id": "Wb7M-Izdooq2"
   },
   "source": [
    "**Pickling the Gradient Boost Model**"
   ]
  },
  {
   "cell_type": "code",
   "execution_count": null,
   "id": "FFOzw2UUowHN",
   "metadata": {
    "id": "FFOzw2UUowHN"
   },
   "outputs": [],
   "source": [
    "# Assuming you have a trained model named 'model'\n",
    "with open('gb_classifier.pkl', 'wb') as gb_classifier_file:\n",
    "    pickle.dump(gb_classifier, gb_classifier_file)"
   ]
  },
  {
   "cell_type": "markdown",
   "id": "0K05A0T2QB6w",
   "metadata": {
    "id": "0K05A0T2QB6w"
   },
   "source": [
    "## Conclusion\n",
    "\n"
   ]
  },
  {
   "cell_type": "markdown",
   "id": "8372ed5e",
   "metadata": {},
   "source": [
    "* Our best perfoming model was the Gradient boost Model. It achieves a high level of accuracy, precision, and recall, as well as a good balance between precision and recall (as indicated by the F1-score). Moreover, its AUC score of 0.839 shows that it excels in distinguishing between different match outcomes, making it the best choice for predicting football match outcomes in your context. Given that it had the highest precision,of 0.73 indicating a relatively low rate of false positive predictions.\n",
    "\n",
    "\n",
    "* The most important features from our model are Venue, Goals a team scored, Goals scored aganist the team, the number of shots made and the attendance of the match.\n",
    "\n",
    "\n",
    "* Teams playing at home (In their stadium) tend to have more wins.\n",
    "\n",
    "\n",
    "* The most popular formation is the 4-3-3 formation with the highest number of wins,  4-2-3-1 formation  and the 4-4-2 formation with the lowest win rate among the three.\n"
   ]
  },
  {
   "cell_type": "markdown",
   "id": "Ut0yDnNAQF6N",
   "metadata": {
    "id": "Ut0yDnNAQF6N"
   },
   "source": [
    "## Recommendation\n",
    "\n"
   ]
  },
  {
   "cell_type": "markdown",
   "id": "4b1bcd3e",
   "metadata": {},
   "source": [
    "* We recommend a deeper analysis of some of the other features (eg. player injuries/statistics ,  coaching styles, weather and geopolitical factors etc) that affect a football match outcomes.\n",
    "\n",
    "\n",
    "* Building a better data collection system to capture the various factors that affect match outcomes which will help in building more robust models that capture the dynamic nature of footbal matches.\n",
    "\n",
    "\n",
    "* We recommenend that the users of our model should bet responsibly noting that betting can lead to gambling addiction."
   ]
  },
  {
   "cell_type": "markdown",
   "id": "SnZIlekqunxW",
   "metadata": {
    "id": "SnZIlekqunxW"
   },
   "source": [
    "## **Appendix**\n",
    "\n",
    "Below we have models that we tired fitting but did not perform that well in comparison to the choosen models. "
   ]
  },
  {
   "cell_type": "markdown",
   "id": "c8dbb365",
   "metadata": {
    "id": "c8dbb365"
   },
   "source": [
    "### XG Boost"
   ]
  },
  {
   "cell_type": "code",
   "execution_count": null,
   "id": "b8c36925",
   "metadata": {
    "id": "b8c36925"
   },
   "outputs": [],
   "source": [
    "# Instantiate the classifier\n",
    "xgb = XGBClassifier(random_state=42)\n",
    "\n",
    "# Call the function with the classifier\n",
    "train_validate_model(xgb,X_train_resampled, y_train_resampled, X_val_resampled, y_val_resampled)"
   ]
  },
  {
   "cell_type": "code",
   "execution_count": null,
   "id": "3e491ded",
   "metadata": {
    "id": "3e491ded"
   },
   "outputs": [],
   "source": [
    "#Testings XgBoost\n",
    "test_model(xgb, X_test_resampled, y_test_resampled)"
   ]
  },
  {
   "cell_type": "markdown",
   "id": "e9f6c000",
   "metadata": {
    "id": "e9f6c000"
   },
   "source": [
    "#### Tuning XGboost"
   ]
  },
  {
   "cell_type": "code",
   "execution_count": null,
   "id": "2312cbb0",
   "metadata": {
    "id": "2312cbb0"
   },
   "outputs": [],
   "source": [
    "param_grid = {\n",
    "    'max_depth': [7, 9],\n",
    "    'learning_rate': [0.1, 0.01],\n",
    "    'n_estimators': [100, 300],\n",
    "    'subsample': [0.8, 1.0],\n",
    "    'min_samples_split': [2, 5],  # Use min_samples_split instead of min_child_weight for GradientBoostingClassifier\n",
    "    'min_samples_leaf': [1, 2],  # Use min_samples_leaf instead of min_child_weight for GradientBoostingClassifier\n",
    "    'max_features': ['auto', 'sqrt', 'log2'],\n",
    "    'loss': ['deviance'],  # For binary classification, 'deviance' is typically used.\n",
    "}\n",
    "\n",
    "tune_model(X_train_resampled, y_train_resampled, X_test_resampled, y_test_resampled, xgb, param_grid, scoring='precision', cv=5)"
   ]
  },
  {
   "cell_type": "markdown",
   "id": "1bf41108",
   "metadata": {
    "id": "1bf41108"
   },
   "source": [
    "### Random Forest"
   ]
  },
  {
   "cell_type": "code",
   "execution_count": null,
   "id": "c284cde1",
   "metadata": {
    "id": "c284cde1"
   },
   "outputs": [],
   "source": [
    "# Create a Random Forest Classifier\n",
    "rf = RandomForestClassifier(random_state=42)\n",
    "\n",
    "# Train and validate the classifier on the preprocessed training data.\n",
    "train_validate_model(rf, X_train_resampled, y_train_resampled, X_val_resampled, y_val_resampled)\n"
   ]
  },
  {
   "cell_type": "code",
   "execution_count": null,
   "id": "33970edd",
   "metadata": {
    "id": "33970edd"
   },
   "outputs": [],
   "source": [
    "#Testing the random forest Model.\n",
    "test_model(rf, X_test_resampled, y_test_resampled)"
   ]
  },
  {
   "cell_type": "markdown",
   "id": "73401e72",
   "metadata": {
    "id": "73401e72"
   },
   "source": [
    "#### Tuning Random Forest"
   ]
  },
  {
   "cell_type": "code",
   "execution_count": null,
   "id": "6cb14e2e",
   "metadata": {
    "id": "6cb14e2e"
   },
   "outputs": [],
   "source": [
    "# Define a parameter grid to search through\n",
    "param_grid = {\n",
    "    'n_estimators': [100, 200],          # Number of trees in the forest\n",
    "    'max_depth': [10, 20],         # Maximum depth of the trees\n",
    "    'min_samples_split': [2, 5, 10],        # Minimum samples required to split a node\n",
    "    'min_samples_leaf': [1, 2, 4],          # Minimum samples required at each leaf node\n",
    "    'max_features': ['auto', 'sqrt', 'log2'] # Number of features to consider at each split\n",
    "}\n",
    "\n",
    "tune_model(X_train_resampled, y_train_resampled, X_test_resampled, y_test_resampled, rf, param_grid, scoring='precision', cv=5)"
   ]
  }
 ],
 "metadata": {
  "colab": {
   "provenance": []
  },
  "kernelspec": {
   "display_name": "Python 3 (ipykernel)",
   "language": "python",
   "name": "python3"
  },
  "language_info": {
   "codemirror_mode": {
    "name": "ipython",
    "version": 3
   },
   "file_extension": ".py",
   "mimetype": "text/x-python",
   "name": "python",
   "nbconvert_exporter": "python",
   "pygments_lexer": "ipython3",
   "version": "3.11.0"
  }
 },
 "nbformat": 4,
 "nbformat_minor": 5
}
